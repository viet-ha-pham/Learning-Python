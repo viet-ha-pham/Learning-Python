{
 "cells": [
  {
   "cell_type": "code",
   "execution_count": 22,
   "id": "ae35058a",
   "metadata": {},
   "outputs": [
    {
     "name": "stdout",
     "output_type": "stream",
     "text": [
      "cacbaaa\n",
      "ababcc\n",
      "xbacbba\n",
      "bba\n",
      "cbbb\n",
      "babbb\n"
     ]
    }
   ],
   "source": [
    "import random\n",
    "import string\n",
    "\n",
    "def generate_rhyme_scheme(min_lines=3, max_lines=7, min_words=3, max_words=7):\n",
    "    # Tạo danh sách chữ cái đại diện cho vần\n",
    "    letters = list(string.ascii_lowercase)\n",
    "    \n",
    "    # Chọn một số lượng vần cần sử dụng\n",
    "    rhyme_letters = letters[:3] * random.choice(range(2,3)) # Chỉ sử dụng 3 chữ cái đại diện vần (ví dụ: a, b, c)\n",
    "    \n",
    "    # Số dòng ngẫu nhiên từ min_lines đến max_lines\n",
    "    num_lines = random.randint(min_lines, max_lines)\n",
    "    rhyme_scheme = []\n",
    "    \n",
    "    for _ in range(num_lines):\n",
    "        # Số tiếng trong mỗi dòng từ min_words max_words\n",
    "        num_words = random.randint(min_words, max_words)\n",
    "        \n",
    "        # Kết hợp các chữ cái bắt buộc và tiếng bất kỳ (x)\n",
    "        line = ''.join(random.choices(['x'] + list(rhyme_letters), k=num_words))\n",
    "        \n",
    "        # Cập nhật sơ đồ\n",
    "        rhyme_scheme.append(line)\n",
    "    \n",
    "    return rhyme_scheme\n",
    "\n",
    "# Gọi hàm và hiển thị sơ đồ vần\n",
    "rhyme_scheme = generate_rhyme_scheme()\n",
    "for line in rhyme_scheme:\n",
    "    print(line)\n"
   ]
  },
  {
   "cell_type": "code",
   "execution_count": 23,
   "id": "8c2fb0c4",
   "metadata": {},
   "outputs": [
    {
     "name": "stdout",
     "output_type": "stream",
     "text": [
      "xxaacxa\n",
      "cxxa\n",
      "ababac\n",
      "xccxxcb\n"
     ]
    }
   ],
   "source": [
    "import random\n",
    "\n",
    "def generate_rhyme_scheme(min_lines=3, max_lines=7, min_segments=3, max_segments=7):\n",
    "    # Ký tự đại diện cho vần, được sắp xếp từ 'a' đến 'c'\n",
    "    rhyme_letters = ['a', 'b', 'c']\n",
    "    \n",
    "    # Đảm bảo mỗi vần xuất hiện ít nhất 2 lần\n",
    "    mandatory_pairs = rhyme_letters * 2  # Mỗi vần xuất hiện ít nhất 2 lần\n",
    "    \n",
    "    # Số dòng ngẫu nhiên từ min_lines đến max_lines\n",
    "    num_lines = random.randint(min_lines, max_lines)\n",
    "    rhyme_scheme = []\n",
    "    \n",
    "    for _ in range(num_lines):\n",
    "        # Số tiếng trong mỗi dòng từ min_segments đến max_segments\n",
    "        num_segments = random.randint(min_segments, max_segments)\n",
    "        \n",
    "        # Tạo danh sách các lựa chọn với trọng số\n",
    "        choices = ['x'] + mandatory_pairs[:num_segments]\n",
    "        weights = [0.4] + [0.6 / len(mandatory_pairs[:num_segments])] * len(mandatory_pairs[:num_segments])\n",
    "        \n",
    "        # Kết hợp 'x' và các vần theo trọng số\n",
    "        line = ''.join(random.choices(choices, weights=weights, k=num_segments))\n",
    "        \n",
    "        # Cập nhật sơ đồ\n",
    "        rhyme_scheme.append(line)\n",
    "        \n",
    "        # Loại bỏ các ký tự đã sử dụng để duy trì thứ tự\n",
    "        mandatory_pairs = mandatory_pairs[num_segments:] + mandatory_pairs[:num_segments]\n",
    "    \n",
    "    return rhyme_scheme\n",
    "\n",
    "# Gọi hàm và hiển thị sơ đồ vần\n",
    "rhyme_scheme = generate_rhyme_scheme()\n",
    "for line in rhyme_scheme:\n",
    "    print(line)\n"
   ]
  },
  {
   "cell_type": "code",
   "execution_count": null,
   "id": "60e48035",
   "metadata": {},
   "outputs": [],
   "source": []
  }
 ],
 "metadata": {
  "kernelspec": {
   "display_name": "Python 3 (ipykernel)",
   "language": "python",
   "name": "python3"
  },
  "language_info": {
   "codemirror_mode": {
    "name": "ipython",
    "version": 3
   },
   "file_extension": ".py",
   "mimetype": "text/x-python",
   "name": "python",
   "nbconvert_exporter": "python",
   "pygments_lexer": "ipython3",
   "version": "3.9.12"
  }
 },
 "nbformat": 4,
 "nbformat_minor": 5
}
