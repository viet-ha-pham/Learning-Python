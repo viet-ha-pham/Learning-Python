{
 "cells": [
  {
   "cell_type": "code",
   "execution_count": 1,
   "id": "5e1652d2",
   "metadata": {},
   "outputs": [
    {
     "name": "stdout",
     "output_type": "stream",
     "text": [
      "Văn bản ngẫu nhiên:\n",
      "bue kuu ha e beu ao uo pua ee qu tui feo bu pi vii ce uo gi uo fa ve a fau vu xoa oi eo ue i zi io a hu xa u ko ai oe ee joi ni gea zi zue ai ceo xei kio deu we\n",
      "\n",
      "Nhóm từ mới:\n",
      "buekuuhae beuaouo puaeequ tuifeobu piviiceuo giuofavea fauvuxoa oieoueizi ioahuxau koaioeee joinigea zizueai ceoxeikio deuwe\n"
     ]
    }
   ],
   "source": [
    "import random\n",
    "\n",
    "# Danh sách các phụ âm và nguyên âm\n",
    "consonants = list(\"bcdfghjklmnpqrstvwxyz\")\n",
    "vowels = list(\"aeiou\")\n",
    "\n",
    "def generate_word():\n",
    "    \"\"\"Tạo một từ có dạng (C)V(C)\"\"\"\n",
    "    word = \"\"\n",
    "    if random.choice([True, False]):\n",
    "        word += random.choice(consonants)  # Thêm phụ âm (C) ngẫu nhiên\n",
    "    word += random.choice(vowels)  # Thêm nguyên âm đầu tiên (V)\n",
    "    if random.choice([True, False]):\n",
    "        word += random.choice(vowels)  # Có thể thêm nguyên âm thứ hai (V)\n",
    "    return word\n",
    "\n",
    "def generate_text(num_words):\n",
    "    \"\"\"Tạo văn bản với số lượng từ được chỉ định\"\"\"\n",
    "    words = [generate_word() for _ in range(num_words)]\n",
    "    return \" \".join(words)\n",
    "\n",
    "def group_words(words, max_length=10):\n",
    "    \"\"\"Nhóm các từ thành từ mới, sao cho độ dài không quá max_length\"\"\"\n",
    "    grouped_words = []\n",
    "    current_group = \"\"\n",
    "    for word in words:\n",
    "        if len(current_group) + len(word) + 1 <= max_length:\n",
    "            if current_group:\n",
    "                current_group += word  # Thêm từ mới vào nhóm hiện tại\n",
    "            else:\n",
    "                current_group = word\n",
    "        else:\n",
    "            grouped_words.append(current_group)  # Lưu nhóm hiện tại\n",
    "            current_group = word\n",
    "    if current_group:\n",
    "        grouped_words.append(current_group)  # Thêm nhóm cuối cùng\n",
    "    return grouped_words\n",
    "\n",
    "# Số lượng từ cần tạo\n",
    "num_words = 50\n",
    "\n",
    "# Tạo văn bản và nhóm từ\n",
    "random_words = generate_text(num_words).split()\n",
    "grouped_text = group_words(random_words)\n",
    "\n",
    "print(\"Văn bản ngẫu nhiên:\")\n",
    "print(\" \".join(random_words))\n",
    "\n",
    "print(\"\\nNhóm từ mới:\")\n",
    "print(\" \".join(grouped_text))\n"
   ]
  },
  {
   "cell_type": "code",
   "execution_count": null,
   "id": "1ce02543",
   "metadata": {},
   "outputs": [],
   "source": []
  }
 ],
 "metadata": {
  "kernelspec": {
   "display_name": "Python 3 (ipykernel)",
   "language": "python",
   "name": "python3"
  },
  "language_info": {
   "codemirror_mode": {
    "name": "ipython",
    "version": 3
   },
   "file_extension": ".py",
   "mimetype": "text/x-python",
   "name": "python",
   "nbconvert_exporter": "python",
   "pygments_lexer": "ipython3",
   "version": "3.9.12"
  }
 },
 "nbformat": 4,
 "nbformat_minor": 5
}
