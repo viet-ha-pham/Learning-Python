{
 "cells": [
  {
   "cell_type": "code",
   "execution_count": 1,
   "id": "dbc688c1",
   "metadata": {},
   "outputs": [],
   "source": [
    "import pickle \n",
    "with open(\"E:/vie_cho_dct_2023.pkl\",\"rb\") as f:\n",
    "    vie_cho_dct = pickle.load(f)"
   ]
  },
  {
   "cell_type": "code",
   "execution_count": 2,
   "id": "d88ab203",
   "metadata": {},
   "outputs": [
    {
     "data": {
      "text/plain": [
       "{'và': 'pép',\n",
       " 'của': 'ruỷn',\n",
       " 'có': 'pỗi',\n",
       " 'các': 'nẳm',\n",
       " 'là': 'xẫm',\n",
       " 'được': 'voẵn',\n",
       " 'trong': 'phoãi',\n",
       " 'cho': 'đoách',\n",
       " 'không': 'gioẵn',\n",
       " 'người': 'giớt',\n",
       " 'với': 'đưm',\n",
       " 'một': 'noen',\n",
       " 'đã': 'trõi',\n",
       " 'công': 'truỷn',\n",
       " 'để': 'nhướng',\n",
       " 'những': 'khoáp',\n",
       " 'khi': 'muyễn',\n",
       " 'đến': 'khiễn',\n",
       " 'về': 'đoạo',\n",
       " 'này': 'bọm',\n",
       " 'tại': 'loăn',\n",
       " 'ở': 'phấu',\n",
       " 'cũng': 'duýnh',\n",
       " 'tôi': 'ìu',\n",
       " 'ra': 'giướn',\n",
       " 'năm': 'chẫn',\n",
       " 'nhiều': 'khềnh',\n",
       " 'từ': 'hiễu',\n",
       " 'việc': 'sửm',\n",
       " 'đồng': 'ruậng',\n",
       " 'nhà': 'trõ',\n",
       " 'làm': 'phoẻo',\n",
       " 'đó': 'thịm',\n",
       " 'hiện': 'doòng',\n",
       " 'ông': 'dét',\n",
       " 'vào': 'trễn',\n",
       " 'học': 'siệm',\n",
       " 'bị': 'thìu',\n",
       " 'trên': 'chuợ',\n",
       " 'thể': 'giềnh',\n",
       " 'theo': 'voặt',\n",
       " 'trường': 'muềnh',\n",
       " 'như': 'xạng',\n",
       " 'ngày': 'đoắng',\n",
       " 'anh': 'giuấng',\n",
       " 'đầu': 'vín',\n",
       " 'nước': 'duếnh',\n",
       " 'phải': 'doảy',\n",
       " 'thành': 'guậy',\n",
       " 'định': 'pặc',\n",
       " 'bộ': 'sựm',\n",
       " 'nhân': 'đuỵt',\n",
       " 'sẽ': 'khướn',\n",
       " 'gia': 'xuồm',\n",
       " 'quan': 'ịnh',\n",
       " 'sự': 'khuý',\n",
       " 'nam': 'trý',\n",
       " 'lại': 'loẵng',\n",
       " 'chỉ': 'nhề',\n",
       " 'số': 'ngốm',\n",
       " 'hàng': 'đoáp',\n",
       " 'con': 'giền',\n",
       " 'sinh': 'vuỳ',\n",
       " 'động': 'cuỳu',\n",
       " 'sau': 'poảy',\n",
       " 'điều': 'sãnh',\n",
       " 'chính': 'gượp',\n",
       " 'dân': 'nhếm',\n",
       " 'cơ': 'ghiếm',\n",
       " 'nhưng': 'thộn',\n",
       " 'việt': 'quoa',\n",
       " 'đi': 'ưỡng',\n",
       " 'quốc': 'nuễnh',\n",
       " 'thì': 'nhoa',\n",
       " 'còn': 'nộc',\n",
       " 'biết': 'nhuôi',\n",
       " 'hội': 'guôi',\n",
       " 'hơn': 'huôn',\n",
       " 'thời': 'roẹ',\n",
       " 'thông': 'dửa',\n",
       " 'an': 'phủm',\n",
       " 'trung': 'tưởu',\n",
       " 'vụ': 'moánh',\n",
       " 'giá': 'gực',\n",
       " 'viên': 'thướu',\n",
       " 'thực': 'phuồng',\n",
       " 'lý': 'tẫu',\n",
       " 'phát': 'đy',\n",
       " 'nên': 'giụm',\n",
       " 'nhận': 'bểu',\n",
       " 'hành': 'ngạu',\n",
       " 'nhất': 'khoóc',\n",
       " 'chủ': 'boàm',\n",
       " 'hợp': 'nhoỏng',\n",
       " 'rất': 'gúc',\n",
       " 'mình': 'khệp',\n",
       " 'đang': 'hễn',\n",
       " 'qua': 'đuợ',\n",
       " 'xe': 'nghíp',\n",
       " 'văn': 'qũn',\n",
       " 'trước': 'thườu',\n",
       " 'do': 'ghĩu',\n",
       " 'cao': 'quễn',\n",
       " 'mới': 'thoóng',\n",
       " 'trình': 'quộp',\n",
       " 'cùng': 'ghiệm',\n",
       " 'mà': 'độm',\n",
       " 'đại': 'nuếnh',\n",
       " 'vì': 'oằm',\n",
       " 'bạn': 'giỗm',\n",
       " 'thế': 'doăng',\n",
       " 'thị': 'sươu',\n",
       " 'sản': 'sậc',\n",
       " 'em': 'thoẹ',\n",
       " 'đây': 'día',\n",
       " 'tế': 'uỳu',\n",
       " 'đường': 'vuỳu',\n",
       " 'cả': 'ượp',\n",
       " 'đối': 'mảu',\n",
       " 'bệnh': 'choỏng',\n",
       " 'hai': 'quĩu',\n",
       " 'án': 'xoải',\n",
       " 'nói': 'vến',\n",
       " 'thi': 'khốt',\n",
       " 'tiếp': 'phúa',\n",
       " 'chức': 'chãy',\n",
       " 'tư': 'khổi',\n",
       " 'hình': 'gioét',\n",
       " 'nghiệp': 'duôm',\n",
       " 'nội': 'ngũi',\n",
       " 'tình': 'khoõng',\n",
       " 'hà': 'nhoành',\n",
       " 'nguyễn': 'loen',\n",
       " 'tiền': 'xuây',\n",
       " 'dự': 'chướm',\n",
       " 'lượng': 'nhạm',\n",
       " 'lên': 'coẹm',\n",
       " 'tin': 'puột',\n",
       " 'điểm': 'poãnh',\n",
       " 'bình': 'pượi',\n",
       " 'cấp': 'choẽn',\n",
       " 'báo': 'vốt',\n",
       " 'kinh': 'oạnh',\n",
       " 'đề': 'nghéc',\n",
       " 'tác': 'giặng',\n",
       " 'dụng': 'phuở',\n",
       " 'bảo': 'vỏm',\n",
       " 'xã': 'toén',\n",
       " 'tâm': 'giễnh',\n",
       " 'xuất': 'nhoát',\n",
       " 'tỉnh': 'nhoảy',\n",
       " 'cô': 'chựn',\n",
       " 'nay': 'lứm',\n",
       " 'thanh': 'troài',\n",
       " 'bà': 'loắm',\n",
       " 'tài': 'phắng',\n",
       " 'kết': 'nhuốn',\n",
       " 'tuổi': 'gưỡn',\n",
       " 'cách': 'hoăn',\n",
       " 'vẫn': 'trặng',\n",
       " 'thu': 'dướn',\n",
       " 'khác': 'dỡm',\n",
       " 'đình': 'đưỡm',\n",
       " 'cầu': 'guổm',\n",
       " 'tăng': 'đễm',\n",
       " 'toàn': 'lước',\n",
       " 'năng': 'giất',\n",
       " 'phương': 'tuệnh',\n",
       " 'phòng': 'nhước',\n",
       " 'chúng': 'vịu',\n",
       " 'thấy': 'moẳm',\n",
       " 'tra': 'coạm',\n",
       " 'tháng': 'xuốm',\n",
       " 'doanh': 'xoèo',\n",
       " 'giải': 'guộp',\n",
       " 'cần': 'nuộng',\n",
       " 'khách': 'suật',\n",
       " 'thương': 'quẩng',\n",
       " 'tự': 'ngợt',\n",
       " 'bản': 'sựi',\n",
       " 'thường': 'giuẫy',\n",
       " 'chị': 'vuận',\n",
       " 'chưa': 'loãm',\n",
       " 'ảnh': 'chửn',\n",
       " 'ngoài': 'trẳng',\n",
       " 'tới': 'pẫng',\n",
       " 'sở': 'hứm',\n",
       " 'quy': 'dộm',\n",
       " 'giao': 'coè',\n",
       " 'lớn': 'sẻm',\n",
       " 'diễn': 'guyn',\n",
       " 'tổ': 'quệp',\n",
       " 'ý': 'voải',\n",
       " 'yêu': 'nẩng',\n",
       " 'liên': 'poét',\n",
       " 'lực': 'mết',\n",
       " 'pháp': 'xạu',\n",
       " 'ăn': 'khọ',\n",
       " 'gian': 'giăn',\n",
       " 'tập': 'chách',\n",
       " 'khu': 'thỗn',\n",
       " 'ban': 'puẫy',\n",
       " 'cuộc': 'dưu',\n",
       " 'sống': 'pọt',\n",
       " 'quyết': 'rênh',\n",
       " 'phạm': 'xụng',\n",
       " 'sĩ': 'khoành',\n",
       " 'hoá': 'mãy',\n",
       " 'mặt': 'luỷu',\n",
       " 'triển': 'gioang',\n",
       " 'triệu': 'rựn',\n",
       " 'nào': 'chệt',\n",
       " 'phần': 'òm',\n",
       " 'trẻ': 'choẵm',\n",
       " 'hay': 'nừm',\n",
       " 'lần': 'phựm',\n",
       " 'bằng': 'đuồng',\n",
       " 'chất': 'thuớ',\n",
       " 'minh': 'quắng',\n",
       " 'độ': 'truỳn',\n",
       " 'nếu': 'cãn',\n",
       " 'trưởng': 'xẹn',\n",
       " 'rằng': 'tũi',\n",
       " 'giới': 'loặn',\n",
       " 'tạo': 'pịt',\n",
       " 'quả': 'pặp',\n",
       " 'nhiên': 'vuồm',\n",
       " 'trọng': 'thuyễn',\n",
       " 'vị': 'pữ',\n",
       " 'quá': 'vuống',\n",
       " 'mẹ': 'nhỉn',\n",
       " 'bán': 'nguỵch',\n",
       " 'thủ': 'gủ',\n",
       " 'trị': 'giệng',\n",
       " 'địa': 'voèo',\n",
       " 'đưa': 'nuế',\n",
       " 'khoảng': 'guần',\n",
       " 'họ': 'trem',\n",
       " 'đạo': 'muỹ',\n",
       " 'tục': 'roằm',\n",
       " 'tổng': 'nguỳnh',\n",
       " 'tiêu': 'ruých',\n",
       " 'ty': 'nưu',\n",
       " 'thức': 'vụi',\n",
       " 'viện': 'doam',\n",
       " 'tham': 'truẫn',\n",
       " 'điện': 'quứt',\n",
       " 'tính': 'ngoãm',\n",
       " 'sử': 'buộng',\n",
       " 'mua': 'giữm',\n",
       " 'gần': 'nhuỹu',\n",
       " 'cảm': 'boọng',\n",
       " 'huyện': 'uếch',\n",
       " 'hiệu': 'dượi',\n",
       " 'phẩm': 'tróp',\n",
       " 'cảnh': 'moản',\n",
       " 'hệ': 'đuỵu',\n",
       " 'bên': 'duổm',\n",
       " 'luật': 'moặng',\n",
       " 'máy': 'giỡm',\n",
       " 'sáng': 'nghểu',\n",
       " 'kỳ': 'vợm',\n",
       " 'nguyên': 'ợp',\n",
       " 'cứu': 'nịp',\n",
       " 'vực': 'trựt',\n",
       " 'giáo': 'vỡm',\n",
       " 'giờ': 'pịu',\n",
       " 'mỹ': 'hễu',\n",
       " 'hoạt': 'tẹ',\n",
       " 'bắt': 'phẽ',\n",
       " 'vậy': 'cảy',\n",
       " 'kiến': 'vuểnh',\n",
       " 'kiểm': 'phoỏng',\n",
       " 'đổi': 'nhễn',\n",
       " 'xây': 'ghểnh',\n",
       " 'đất': 'pẹm',\n",
       " 'vừa': 'bờn',\n",
       " 'sát': 'troeo',\n",
       " 'khó': 'boãm',\n",
       " 'nghệ': 'ruầng',\n",
       " 'tỷ': 'goác',\n",
       " 'trở': 'páy',\n",
       " 'gây': 'uýn',\n",
       " 'hoàn': 'ngặm',\n",
       " 'vấn': 'rìn',\n",
       " 'tuy': 'đoào',\n",
       " 'đơn': 'ghỳ',\n",
       " 'khai': 'giưi',\n",
       " 'tốt': 'dõm',\n",
       " 'mạnh': 'thoằm',\n",
       " 'giảm': 'giứa',\n",
       " 'biệt': 'đuờ',\n",
       " 'nhiệm': 'iếc',\n",
       " 'dựng': 'tửm',\n",
       " 'thống': 'vờm',\n",
       " 'lúc': 'loẵn',\n",
       " 'bất': 'ngoẻn',\n",
       " 'trang': 'puỹu',\n",
       " 'vi': 'xuôm',\n",
       " 'thứ': 'ránh',\n",
       " 'rồi': 'nhưm',\n",
       " 'phố': 'nhoản',\n",
       " 'nghị': 'rẽo',\n",
       " 'tiếng': 'kễnh',\n",
       " 'đều': 'phuậng',\n",
       " 'đặc': 'nhoăn',\n",
       " 'chồng': 'phọng',\n",
       " 'cáo': 'gẵn',\n",
       " 'hồ': 'tẹp',\n",
       " 'mức': 'moảy',\n",
       " 'chí': 'luê',\n",
       " 'chế': 'thuỹn',\n",
       " 'xử': 'ngấng',\n",
       " 'tượng': 'nguốp',\n",
       " 'mỗi': 'vuệ',\n",
       " 'nhau': 'nhoẳn',\n",
       " 'ta': 'qúng',\n",
       " 'gì': 'tuýu',\n",
       " 'giúp': 'thạu',\n",
       " 'nữ': 'xại',\n",
       " 'chuyển': 'khặm',\n",
       " 'thêm': 'phột',\n",
       " 'đánh': 'gảo',\n",
       " 'loại': 'troẻ',\n",
       " 'trí': 'phẵm',\n",
       " 'tiến': 'soác',\n",
       " 'khiến': 'gioằm',\n",
       " 'chi': 'địt',\n",
       " 'tìm': 'hửi',\n",
       " 'muốn': 'duỵnh',\n",
       " 'phụ': 'ởm',\n",
       " 'cá': 'chòn',\n",
       " 'thân': 'nguýn',\n",
       " 'chuyện': 'puể',\n",
       " 'đoàn': 'ngoẳng',\n",
       " 'quyền': 'goắt',\n",
       " 'vợ': 'ngoãng',\n",
       " 'quản': 'giuần',\n",
       " 'đông': 'hâng',\n",
       " 'bố': 'poẽm',\n",
       " 'chia': 'phoèo',\n",
       " 'hoặc': 'gỡm',\n",
       " 'sách': 'thuề',\n",
       " 'tích': 'mứi',\n",
       " 'phim': 'kĩn',\n",
       " 'mang': 'coạ',\n",
       " 'sức': 'suyệt',\n",
       " 'hoa': 'nhêu',\n",
       " 'lời': 'thoẹo',\n",
       " 'dùng': 'phuyên',\n",
       " 'ngân': 'toãy',\n",
       " 'chương': 'boẻn',\n",
       " 'giám': 'ruyn',\n",
       " 'nhập': 'tẽo',\n",
       " 'ngành': 'buỹa',\n",
       " 'từng': 'phuyền',\n",
       " 'nạn': 'trứt',\n",
       " 'hết': 'nển',\n",
       " 'diện': 'ợi',\n",
       " 'chuyên': 'gỡi',\n",
       " 'tay': 'mếnh',\n",
       " 'tịch': 'xượm',\n",
       " 'ngay': 'vưới',\n",
       " 'nơi': 'goẽn',\n",
       " 'khoa': 'giừi',\n",
       " 'dịch': 'ngoảng',\n",
       " 'lập': 'quựng',\n",
       " 'giữ': 'bồm',\n",
       " 'lợi': 'xặc',\n",
       " 'chứng': 'goão',\n",
       " 'hải': 'thũa',\n",
       " 'hộ': 'gượu',\n",
       " 'thiết': 'đỉm',\n",
       " 'hướng': 'sậng',\n",
       " 'phó': 'hựa',\n",
       " 'tiên': 'phuỵt',\n",
       " 'phục': 'thĩm',\n",
       " 'mọi': 'đuểnh',\n",
       " 'bao': 'quáp',\n",
       " 'xét': 'đoẵm',\n",
       " 'dẫn': 'tón',\n",
       " 'truyền': 'ruớ',\n",
       " 'biểu': 'iềm',\n",
       " 'phí': 'soẳng',\n",
       " 'ca': 'điệc',\n",
       " 'biển': 'quạn',\n",
       " 'thư': 'dắng',\n",
       " 'bé': 'muỵp',\n",
       " 'bỏ': 'lứi',\n",
       " 'lịch': 'luẫy',\n",
       " 'trần': 'cờm',\n",
       " 'chung': 'loéo',\n",
       " 'xác': 'chuộm',\n",
       " 'vật': 'gioắt',\n",
       " 'rõ': 'phoẳng',\n",
       " 'giữa': 'xoam',\n",
       " 'giả': 'nhâu',\n",
       " 'bài': 'xuyển',\n",
       " 'sao': 'ngậng',\n",
       " 'cái': 'giều',\n",
       " 'y': 'oắng',\n",
       " 'du': 'nhoãnh',\n",
       " 'ứng': 'giuệch',\n",
       " 'tử': 'vịp',\n",
       " 'đẹp': 'dểnh',\n",
       " 'xem': 'phoẽn',\n",
       " 'hoàng': 'khửn',\n",
       " 'hoà': 'vữ',\n",
       " 'dù': 'qúm',\n",
       " 'trả': 'gựn',\n",
       " 'sẻ': 'cỗng',\n",
       " 'chiếc': 'gieng',\n",
       " 'đủ': 'thèng',\n",
       " 'dài': 'rử',\n",
       " 'kiện': 'hộm',\n",
       " 'cổ': 'dẹng',\n",
       " 'vàng': 'ưởi',\n",
       " 'thay': 'pại',\n",
       " 'đạt': 'roãy',\n",
       " 'thuộc': 'lượi',\n",
       " 'kế': 'chuỵt',\n",
       " 'gái': 'ẻ',\n",
       " 'trợ': 'rở',\n",
       " 'lê': 'nghiếu',\n",
       " 'ba': 'tẳm',\n",
       " 'nhỏ': 'chậng',\n",
       " 'ký': 'vỗn',\n",
       " 'chọn': 'tuẩn',\n",
       " 'chiến': 'phẻn',\n",
       " 'câu': 'phĩnh',\n",
       " 'thuật': 'coẳn',\n",
       " 'sơn': 'nhổi',\n",
       " 'mất': 'khoẵng',\n",
       " 'hỏi': 'sặng',\n",
       " 'gặp': 'vốm',\n",
       " 'thái': 'thoạm',\n",
       " 'chiều': 'đuỳu',\n",
       " 'biến': 'toai',\n",
       " 'lấy': 'mỗng',\n",
       " 'vệ': 'coáp',\n",
       " 'bàn': 'trế',\n",
       " 'luôn': 'chạt',\n",
       " 'tên': 'goẽo',\n",
       " 'phủ': 'oạ',\n",
       " 'xảy': 'pày',\n",
       " 'danh': 'niều',\n",
       " 'quận': 'voáy',\n",
       " 'đức': 'xấng',\n",
       " 'đúng': 'pẹo',\n",
       " 'thích': 'gợp',\n",
       " 'dục': 'phoăm',\n",
       " 'đảm': 'xuỗng',\n",
       " 'bởi': 'xẫu',\n",
       " 'ấy': 'hĩa',\n",
       " 'tiết': 'niến',\n",
       " 'bác': 'nuây',\n",
       " 'hạn': 'pót',\n",
       " 'hậu': 'gúi',\n",
       " 'đời': 'ruềnh',\n",
       " 'quân': 'ỵ',\n",
       " 'ai': 'giùa',\n",
       " 'hưởng': 'bễm',\n",
       " 'cây': 'luổi',\n",
       " 'quảng': 'troọng',\n",
       " 'tranh': 'voam',\n",
       " 'so': 'giuyển',\n",
       " 'sang': 'thuyn',\n",
       " 'đội': 'trượi',\n",
       " 'tố': 'oá',\n",
       " 'cửa': 'rượn',\n",
       " 'vùng': 'nhưỡi',\n",
       " 'kể': 'phộ',\n",
       " 'nguồn': 'quỹa',\n",
       " 'trạng': 'nãnh',\n",
       " 'vốn': 'nệp',\n",
       " 'nhóm': 'puỹnh',\n",
       " 'căn': 'lỉm',\n",
       " 'phân': 'mữu',\n",
       " 'xuống': 'tuễ',\n",
       " 'cuối': 'mịu',\n",
       " 'tất': 'ghĩnh',\n",
       " 'cứ': 'oàn',\n",
       " 'bay': 'trẩm',\n",
       " 'nghiệm': 'giạnh',\n",
       " 'thí': 'trẫng',\n",
       " 'chuẩn': 'rễu',\n",
       " 'cố': 'chưu',\n",
       " 'tàu': 'puốc',\n",
       " 'lao': 'khớm',\n",
       " 'mở': 'ĩa',\n",
       " 'liệu': 'kịn',\n",
       " 'nữa': 'soắt',\n",
       " 'tướng': 'giựa',\n",
       " 'tối': 'gị',\n",
       " 'uỷ': 'phưởu',\n",
       " 'lưu': 'boẹ',\n",
       " 'đăng': 'thởm',\n",
       " 'ít': 'soảnh',\n",
       " 'nhạc': 'khười',\n",
       " 'mắt': 'cứi',\n",
       " 'lãnh': 'luầng',\n",
       " 'ngọc': 'trạp',\n",
       " 'đoạn': 'gơn',\n",
       " 'xin': 'ruỷu',\n",
       " 'đốc': 'giưởn',\n",
       " 'trực': 'pốp',\n",
       " 'đặt': 'pếch',\n",
       " 'trách': 'pườu',\n",
       " 'bắc': 'phoắc',\n",
       " 'tuyển': 'khuộc',\n",
       " 'vận': 'xất',\n",
       " 'dương': 'xoắt',\n",
       " 'riêng': 'giậng',\n",
       " 'ngoại': 'nánh',\n",
       " 'luận': 'gởm',\n",
       " 'mạng': 'khuỗn',\n",
       " 'cụ': 'trản',\n",
       " 'sơ': 'boãi',\n",
       " 'đa': 'buổm',\n",
       " 'phía': 'nguốc',\n",
       " 'đóng': 'hoam',\n",
       " 'tương': 'phuầng',\n",
       " 'nông': 'siệng',\n",
       " 'yếu': 'vớp',\n",
       " 'ninh': 'xướp',\n",
       " 'tội': 'cuỷa',\n",
       " 'khăn': 'đuỵa',\n",
       " 'xuân': 'coám',\n",
       " 'mục': 'phuyễn',\n",
       " 'nghĩa': 'gioặn',\n",
       " 'cạnh': 'gụt',\n",
       " 'cháu': 'bửm',\n",
       " 'lớp': 'guỹ',\n",
       " 'đào': 'khựa',\n",
       " 'hoạch': 'giãng',\n",
       " 'khẩu': 'giụi',\n",
       " 'long': 'suyện',\n",
       " 'phong': 'nhửa',\n",
       " 'vũ': 'moạm',\n",
       " 'phú': 'đoặm',\n",
       " 'nghĩ': 'quưỡn',\n",
       " 'môi': 'nhướt',\n",
       " 'thiếu': 'goáo',\n",
       " 'thật': 'giế',\n",
       " 'hiểu': 'phuýn',\n",
       " 'nổi': 'ghẻm',\n",
       " 'chạy': 'troão',\n",
       " 'trái': 'lằm',\n",
       " 'cán': 'xuềnh',\n",
       " 'thuốc': 'tuốm',\n",
       " 'kỹ': 'uê',\n",
       " 'hữu': 'thỹ',\n",
       " 'cục': 'ngọi',\n",
       " 'áp': 'sẹng',\n",
       " 'cộng': 'quồn',\n",
       " 'thuận': 'phuôn',\n",
       " 'tinh': 'xiễn',\n",
       " 'nhật': 'bâm',\n",
       " 'chân': 'xoẳn',\n",
       " 'lòng': 'xuỗi',\n",
       " 'càng': 'guầy',\n",
       " 'dưới': 'chĩ',\n",
       " 'nó': 'khưỡu',\n",
       " 'nhìn': 'tụn',\n",
       " 'đêm': 'xậng',\n",
       " 'quang': 'thóm',\n",
       " 'nhanh': 'ững',\n",
       " 'nghiên': 'troém',\n",
       " 'gửi': 'trặm',\n",
       " 'hỗ': 'nhấng',\n",
       " 'châu': 'đuất',\n",
       " 'khá': 'suỗm',\n",
       " 'phúc': 'nghiềm',\n",
       " 'phép': 'quỏng',\n",
       " 'trai': 'duệch',\n",
       " 'tải': 'puổng',\n",
       " 'đảng': 'đuỷu',\n",
       " 'chơi': 'xoẹm',\n",
       " 'chết': 'puống',\n",
       " 'gọi': 'pủng',\n",
       " 'đàn': 'tuốn',\n",
       " 'môn': 'nuýu',\n",
       " 'tuần': 'dẩm',\n",
       " 'lễ': 'pớm',\n",
       " 'dung': 'ngăng',\n",
       " 'góp': 'nhềnh',\n",
       " 'huy': 'poãm',\n",
       " 'tân': 'khến',\n",
       " 'khả': 'xẳm',\n",
       " 'hồi': 'muở',\n",
       " 'hôm': 'sươm',\n",
       " 'biên': 'đềnh',\n",
       " 'lan': 'đoóc',\n",
       " 'độc': 'mẫng',\n",
       " 'linh': 'giy',\n",
       " 'cung': 'cuyu',\n",
       " 'toán': 'toãi',\n",
       " 'giấy': 'guê',\n",
       " 'cường': 'xạnh',\n",
       " 'đáng': 'noóc',\n",
       " 'tai': 'soặng',\n",
       " 'tuyến': 'pượu',\n",
       " 'nằm': 'thậu',\n",
       " 'gồm': 'quòi',\n",
       " 'xúc': 'vớn',\n",
       " 'duy': 'rợi',\n",
       " 'sắc': 'chuề',\n",
       " 'giang': 'phễm',\n",
       " 'trao': 'moen',\n",
       " 'lo': 'huầy',\n",
       " 'bí': 'nễ',\n",
       " 'buổi': 'troàn',\n",
       " 'thần': 'uề',\n",
       " 'sân': 'khững',\n",
       " 'đồ': 'phuệ',\n",
       " 'thuỷ': 'khươu',\n",
       " 'cử': 'luớ',\n",
       " 'tây': 'ĩm',\n",
       " 'khoẻ': 'tãy',\n",
       " 'nghe': 'dườn',\n",
       " 'rộng': 'lĩm',\n",
       " 'vui': 'phượi',\n",
       " 'toà': 'nguốt',\n",
       " 'hồng': 'ghịch',\n",
       " 'dành': 'nuỗi',\n",
       " 'phối': 'roeo',\n",
       " 'kim': 'tụp',\n",
       " 'khoản': 'oảm',\n",
       " 'tấn': 'buấn',\n",
       " 'vai': 'troạo',\n",
       " 'chống': 'hựng',\n",
       " 'lệ': 'vuỹa',\n",
       " 'khí': 'giuông',\n",
       " 'vô': 'pằm',\n",
       " 'lương': 'oỏng',\n",
       " 'dễ': 'thĩ',\n",
       " 'đầy': 'thoéo',\n",
       " 'sư': 'hộn',\n",
       " 'nặng': 'nghểnh',\n",
       " 'mai': 'cữn',\n",
       " 'trò': 'truỵa',\n",
       " 'hương': 'dỏi',\n",
       " 'nguy': 'phoạc',\n",
       " 'hại': 'pườm',\n",
       " 'thảo': 'suộn',\n",
       " 'đảo': 'phụp',\n",
       " 'thiện': 'khoạy',\n",
       " 'nuôi': 'truỵp',\n",
       " 'ghi': 'phõ',\n",
       " 'quán': 'chõn',\n",
       " 'chịu': 'phẹn',\n",
       " 'tưởng': 'suỵch',\n",
       " 'phường': 'gioẳn',\n",
       " 'niên': 'oảy',\n",
       " 'tết': 'vẫng',\n",
       " 'mong': 'rúa',\n",
       " 'lộ': 'phuổng',\n",
       " 'cực': 'buýn',\n",
       " 'vài': 'khữm',\n",
       " 'bước': 'quoẹ',\n",
       " 'đô': 'soách',\n",
       " 'nghiêm': 'goắm',\n",
       " 'đà': 'góng',\n",
       " 'chấp': 'phoảng',\n",
       " 'thuế': 'oãn',\n",
       " 'thoại': 'nợp',\n",
       " 'đứng': 'niểng',\n",
       " 'đôi': 'guỗn',\n",
       " 'di': 'võm',\n",
       " 'uống': 'choặn',\n",
       " 'phản': 'phọn',\n",
       " 'nghề': 'phũn',\n",
       " 'vọng': 'xếm',\n",
       " 'thấp': 'quiệu',\n",
       " 'âm': 'qún',\n",
       " 'tiện': 'đỗng',\n",
       " 'lĩnh': 'uơ',\n",
       " 'thẩm': 'dỉu',\n",
       " 'dầu': 'gioẽm',\n",
       " 'khám': 'noẹm',\n",
       " 'màu': 'noách',\n",
       " 'hát': 'poóc',\n",
       " 'đau': 'moắt',\n",
       " 'xa': 'giầng',\n",
       " 'hiểm': 'xộp',\n",
       " 'lâu': 'quoen',\n",
       " 'mô': 'ruyết',\n",
       " 'kiếm': 'nỉu',\n",
       " 'mặc': 'choèn',\n",
       " 'nghỉ': 'luỵnh',\n",
       " 'viết': 'giẽng',\n",
       " 'phù': 'cuỵp',\n",
       " 'nhằm': 'rển',\n",
       " 'xuyên': 'dõ',\n",
       " 'kỷ': 'vuôm',\n",
       " 'ngờ': 'soạo',\n",
       " 'yên': 'truể',\n",
       " 'mưa': 'lếm',\n",
       " 'hạ': 'sữi',\n",
       " 'nghi': 'quíu',\n",
       " 'kéo': 'bậng',\n",
       " 'khởi': 'giuỵt',\n",
       " 'ương': 'phẹm',\n",
       " 'nâng': 'thiếng',\n",
       " 'khẳng': 'giựu',\n",
       " 'cư': 'iễm',\n",
       " 'mẫu': 'phèm',\n",
       " 'trương': 'vuốc',\n",
       " 'quý': 'nguổi',\n",
       " 'mại': 'duểnh',\n",
       " 'phá': 'luỳnh',\n",
       " 'chú': 'điệng',\n",
       " 'sai': 'pỉu',\n",
       " 'ô': 'goặc',\n",
       " 'chăm': 'nhữi',\n",
       " 'hùng': 'toằn',\n",
       " 'suất': 'lướn',\n",
       " 'sâu': 'sẩng',\n",
       " 'tuấn': 'nhũm',\n",
       " 'bức': 'ghiếp',\n",
       " 'đọc': 'quiêu',\n",
       " 'lâm': 'tuợ',\n",
       " 'nợ': 'ngướn',\n",
       " 'khỏi': 'quĩn',\n",
       " 'phạt': 'qúc',\n",
       " 'tín': 'giưỡi',\n",
       " 'vượt': 'xuệ',\n",
       " 'đấu': 'gỉn',\n",
       " 'thiên': 'giưới',\n",
       " 'thưởng': 'đữ',\n",
       " 'sông': 'nhui',\n",
       " 'sớm': 'xểm',\n",
       " 'dạy': 'đựm',\n",
       " 'cha': 'trếm',\n",
       " 'bổ': 'roạo',\n",
       " 'cải': 'roẳm',\n",
       " 'tuyên': 'nẵn',\n",
       " 'chỗ': 'rại',\n",
       " 'áo': 'giễng',\n",
       " 'hạnh': 'xệnh',\n",
       " 'tầng': 'hoãng',\n",
       " 'da': 'hẽ',\n",
       " 'tạm': 'quòng',\n",
       " 'đẩy': 'oày',\n",
       " 'dưỡng': 'ngứt',\n",
       " 'chữa': 'sước',\n",
       " 'vòng': 'óm',\n",
       " 'phiên': 'hoách',\n",
       " 'đá': 'noác',\n",
       " 'mùa': 'bượu',\n",
       " 'vay': 'quảu',\n",
       " 'hôn': 'rồm',\n",
       " 'đâu': 'moáy',\n",
       " 'chứ': 'vuếch',\n",
       " 'xanh': 'ựu',\n",
       " 'quê': 'nhứu',\n",
       " 'hút': 'ngườn',\n",
       " 'máu': 'gioao',\n",
       " 'hiệp': 'khoèm',\n",
       " 'nhờ': 'puya',\n",
       " 'thăm': 'doỏng',\n",
       " 'trú': 'poao',\n",
       " 'thuê': 'ghích',\n",
       " 'tránh': 'nguý',\n",
       " 'khán': 'ngôm',\n",
       " 'chẳng': 'dựi',\n",
       " 'tiểu': 'phạu',\n",
       " 'ánh': 'hứn',\n",
       " 'quay': 'mẽo',\n",
       " 'soát': 'thuốm',\n",
       " 'nhiệt': 'ngẵm',\n",
       " 'ngôi': 'dẩng',\n",
       " 'thắng': 'giướm',\n",
       " 'dũng': 'vuỹn',\n",
       " 'món': 'thạy',\n",
       " 'thừa': 'chiểng',\n",
       " 'ung': 'đuỷn',\n",
       " 'cháy': 'cựm',\n",
       " 'khắc': 'thuỗm',\n",
       " 'ngồi': 'xoao',\n",
       " 'phê': 'nèm',\n",
       " 'họp': 'buống',\n",
       " 'trì': 'roào',\n",
       " 'tô': 'hiệc',\n",
       " 'quen': 'phặt',\n",
       " 'vinh': 'giển',\n",
       " 'miền': 'sốn',\n",
       " 'chợ': 'toặm',\n",
       " 'nhu': 'guẫn',\n",
       " 'chắc': 'sể',\n",
       " 'nền': 'mỡn',\n",
       " 'giống': 'suổn',\n",
       " 'nga': 'pôm',\n",
       " 'nóng': 'nghịnh',\n",
       " 'thôn': 'boạng',\n",
       " 'phút': 'quể',\n",
       " 'giai': 'nhoạp',\n",
       " 'ổn': 'pẽ',\n",
       " 'bầu': 'nhoằm',\n",
       " 'ưu': 'khụp',\n",
       " 'thầy': 'phuỹ',\n",
       " 'nhớ': 'mỗm',\n",
       " 'mắc': 'gioẽ',\n",
       " 'dấu': 'tuỷu',\n",
       " 'sóc': 'nuếch',\n",
       " 'quanh': 'uộn',\n",
       " 'trời': 'phơm',\n",
       " 'mối': 'xỏng',\n",
       " 'cà': 'hoẵn',\n",
       " 'tỉ': 'cuỳ',\n",
       " 'thậm': 'xiễng',\n",
       " 'chờ': 'giói',\n",
       " 'chỉnh': 'xuya',\n",
       " 'khánh': 'coẽn',\n",
       " 'ma': 'liệc',\n",
       " 'thúc': 'xẽn',\n",
       " 'lai': 'nhứn',\n",
       " 'ngủ': 'tréng',\n",
       " 'siêu': 'đăn',\n",
       " 'thịt': 'giỷ',\n",
       " 'chiếm': 'dẽn',\n",
       " 'tức': 'khệch',\n",
       " 'đứa': 'đoẵng',\n",
       " 'may': 'xuộm',\n",
       " 'nẵng': 'díp',\n",
       " 'thơ': 'voản',\n",
       " 'bày': 'luẩy',\n",
       " 'song': 'loạch',\n",
       " 'nhiễm': 'miệu',\n",
       " 'hãy': 'đẳn',\n",
       " 'đón': 'ưỡm',\n",
       " 'ấn': 'nhéng',\n",
       " 'chuyến': 'xệm',\n",
       " 'khảo': 'póng',\n",
       " 'phóng': 'quờm',\n",
       " 'can': 'trìa',\n",
       " 'bánh': 'qùn',\n",
       " 'suy': 'siềng',\n",
       " 'cân': 'sối',\n",
       " 'đáp': 'nuỵt',\n",
       " 'vẻ': 'dắp',\n",
       " 'khoá': 'poẻo',\n",
       " 'lựa': 'pũa',\n",
       " 'hưng': 'boẹt',\n",
       " 'trải': 'ịp',\n",
       " 'truy': 'cuỳn',\n",
       " 'lái': 'uểnh',\n",
       " 'sợ': 'thoèn',\n",
       " 'trồng': 'buếch',\n",
       " 'thú': 'mỉnh',\n",
       " 'kịp': 'bều',\n",
       " 'dòng': 'rễnh',\n",
       " 'ích': 'piểm',\n",
       " 'lạc': 'truơ',\n",
       " 'tỏ': 'khỗng',\n",
       " 'hàn': 'moè',\n",
       " 'khối': 'viềm',\n",
       " 'tặng': 'ghiết',\n",
       " 'suốt': 'giũng',\n",
       " 'khuyến': 'thiễm',\n",
       " 'đổ': 'vứng',\n",
       " 'á': 'đoẽn',\n",
       " 'đỏ': 'dứm',\n",
       " 'phan': 'giệc',\n",
       " 'rút': 'voăn',\n",
       " 'tái': 'xứn',\n",
       " 'mấy': 'hịn',\n",
       " 'cũ': 'gõng',\n",
       " 'rau': 'puộng',\n",
       " 'nghèo': 'gioạt',\n",
       " 'mời': 'poáo',\n",
       " 'gắn': 'trỉnh',\n",
       " 'thụ': 'vạo',\n",
       " 'cầm': 'xiện',\n",
       " 'tờ': 'pở',\n",
       " 'tốc': 'quẩu',\n",
       " 'buộc': 'áu',\n",
       " 'cam': 'thộc',\n",
       " 'ước': 'cũm',\n",
       " 'dư': 'toẽo',\n",
       " 'biện': 'pới',\n",
       " 'quần': 'ngặc',\n",
       " 'tim': 'nhởm',\n",
       " 'phi': 'quam',\n",
       " 'thất': 'nhuổn',\n",
       " 'thai': 'quốt',\n",
       " 'vong': 'khỗm',\n",
       " 'bạc': 'vuýnh',\n",
       " 'lãi': 'rãu',\n",
       " 'tắc': 'bặn',\n",
       " 'the': 'đoác',\n",
       " 'khúc': 'suỹnh',\n",
       " 'sài': 'gửa',\n",
       " 'giác': 'quêu',\n",
       " 'ngữ': 'tẫm',\n",
       " 'cắt': 'lỉn',\n",
       " 'hài': 'cừng',\n",
       " 'bè': 'xẫn',\n",
       " 'phiếu': 'ngoăm',\n",
       " 'niệm': 'hoão',\n",
       " 'sửa': 'bượm',\n",
       " 'dừng': 'xuýu',\n",
       " 'la': 'loách',\n",
       " 'thiệt': 'phổn',\n",
       " 'xếp': 'phẹt',\n",
       " 'tận': 'bược',\n",
       " 'tĩnh': 'nguỹnh',\n",
       " 'sung': 'quỵn',\n",
       " 'thử': 'ngướp',\n",
       " 'đài': 'quoả',\n",
       " 'thẳng': 'xoém',\n",
       " 'to': 'nhuẫn',\n",
       " 'dịp': 'kiễu',\n",
       " 'thôi': 'nghẽm',\n",
       " 'trăm': 'giuynh',\n",
       " 'chở': 'quồi',\n",
       " 'vĩnh': 'uỵp',\n",
       " 'nhẹ': 'muỷ',\n",
       " 'sữa': 'thoạp',\n",
       " 'nguyện': 'phoẵm',\n",
       " 'nêu': 'quẽn',\n",
       " 'trắng': 'nghĩm',\n",
       " 'sạch': 'poem',\n",
       " 'tộc': 'nụm',\n",
       " 'cận': 'guỷa',\n",
       " 'bóng': 'quề',\n",
       " 'chục': 'nừi',\n",
       " 'ly': 'ghịu',\n",
       " 'dần': 'xoỏng',\n",
       " 'phổ': 'quoẽo',\n",
       " 'vé': 'rụn',\n",
       " 'thác': 'xũa',\n",
       " 'sỹ': 'noén',\n",
       " 'xong': 'phìu',\n",
       " 'lỗi': 'toặng',\n",
       " 'chóng': 'tuê',\n",
       " 'niềm': 'noòng',\n",
       " 'tri': 'thoẳn',\n",
       " 'gốc': 'nhớn',\n",
       " 'đỡ': 'guốt',\n",
       " 'nhi': 'hĩm',\n",
       " 'thoát': 'thồm',\n",
       " 'chặt': 'tướn',\n",
       " 'tù': 'quỉm',\n",
       " 'a': 'nhuỷa',\n",
       " 'sẵn': 'hượi',\n",
       " 'hãng': 'vưởi',\n",
       " 'làng': 'soem',\n",
       " 'loạt': 'giâu',\n",
       " 'gió': 'nhéc',\n",
       " 'cười': 'trỗng',\n",
       " 'vân': 'boạch',\n",
       " 'dạng': 'gioảnh',\n",
       " 'gòn': 'trệm',\n",
       " 'cưới': 'boát',\n",
       " 'vững': 'soao',\n",
       " 'lá': 'nù',\n",
       " 'dây': 'rướng',\n",
       " 'hấp': 'ghiên',\n",
       " 'nhắc': 'xỡm',\n",
       " 'nộp': 'sượm',\n",
       " 'coi': 'phuý',\n",
       " 'liệt': 'cưỡn',\n",
       " 'nối': 'noặm',\n",
       " 'đỗ': 'giuyệt',\n",
       " 'kém': 'piệng',\n",
       " 'võ': 'gỏ',\n",
       " 'luyện': 'puỵch',\n",
       " 'lẽ': 'doắc',\n",
       " 'sắp': 'tỡi',\n",
       " 'bến': 'khóng',\n",
       " 'rừng': 'pươm',\n",
       " 'nhấn': 'tuẫy',\n",
       " 'lạnh': 'xượng',\n",
       " 'hầu': 'hỗm',\n",
       " 'tôn': 'guốn',\n",
       " 'huynh': 'cuyên',\n",
       " 'cậu': 'ngứng',\n",
       " 'cấu': 'trươn',\n",
       " 'chứa': 'thẻm',\n",
       " 'cập': 'puềnh',\n",
       " 'đám': 'vươm',\n",
       " 'xấu': 'xìm',\n",
       " 'kiên': 'trày',\n",
       " 'gà': 'huộp',\n",
       " 'thiệu': 'coem',\n",
       " 'lắng': 'voặm',\n",
       " 'lạ': 'goã',\n",
       " 'lắm': 'hoạy',\n",
       " 'sa': 'coành',\n",
       " 'lửa': 'ghết',\n",
       " 'dao': 'ngưởn',\n",
       " 'sắt': 'ngờn',\n",
       " 'sóng': 'chộm',\n",
       " 'tạp': 'vươu',\n",
       " 'đột': 'tráy',\n",
       " 'mê': 'tráu',\n",
       " 'chụp': 'tuấng',\n",
       " 'kê': 'quiệp',\n",
       " 'giảng': 'duơ',\n",
       " ...}"
      ]
     },
     "execution_count": 2,
     "metadata": {},
     "output_type": "execute_result"
    }
   ],
   "source": [
    "vie_cho_dct"
   ]
  },
  {
   "cell_type": "code",
   "execution_count": 3,
   "id": "fb0437f7",
   "metadata": {},
   "outputs": [],
   "source": [
    "def trans(txt):\n",
    "    sp = txt.split()\n",
    "    return \" \".join([ vie_cho_dct[w] if w in vie_cho_dct else w for w in sp])"
   ]
  },
  {
   "cell_type": "code",
   "execution_count": 4,
   "id": "d16a4608",
   "metadata": {},
   "outputs": [
    {
     "data": {
      "text/plain": [
       "'xụng quoa nhoành'"
      ]
     },
     "execution_count": 4,
     "metadata": {},
     "output_type": "execute_result"
    }
   ],
   "source": [
    "trans(\"phạm việt hà\")"
   ]
  },
  {
   "cell_type": "code",
   "execution_count": 5,
   "id": "372d3dc2",
   "metadata": {},
   "outputs": [
    {
     "data": {
      "text/plain": [
       "'nhụn troàn nghểu'"
      ]
     },
     "execution_count": 5,
     "metadata": {},
     "output_type": "execute_result"
    }
   ],
   "source": [
    "trans(\"chào buổi sáng\")"
   ]
  },
  {
   "cell_type": "code",
   "execution_count": 6,
   "id": "3ae8f15f",
   "metadata": {},
   "outputs": [
    {
     "data": {
      "text/plain": [
       "'ìu xẫm giớt Choáp'"
      ]
     },
     "execution_count": 6,
     "metadata": {},
     "output_type": "execute_result"
    }
   ],
   "source": [
    "trans(\"tôi là người Choáp\")"
   ]
  },
  {
   "cell_type": "code",
   "execution_count": 7,
   "id": "16e3998a",
   "metadata": {},
   "outputs": [],
   "source": [
    "txt = \"\"\"trời buông gió và mây về ngang bên lưng đèo\n",
    "mùa xanh lá loài sâu ngủ quên trong tóc chiều\n",
    "cuộc đời đó nửa đêm tiếng ca lên như than phiền\n",
    "bàng hoàng lạc gió mây miền\n",
    "trùng trùng ngoài khơi nước lên sóng mềm\n",
    "\n",
    "ngựa buông vó, người đi chùng chân đã bao lần\n",
    "nửa đêm đó lời ca dạ lan như ngại ngùng\n",
    "vùng u tối loài sâu hát lên khúc ca cuối cùng\n",
    "một đời bỏ ngỏ đêm hồng\n",
    "ngoài trời còn dâng nước lên mắt em\n",
    "\n",
    "tiếng ca bắt nguồn từ đất khô\n",
    "từ mưa gió từ vào trong đá xưa\n",
    "đến bây giờ mắt đã mù tóc xanh đen vầng trán thơ\n",
    "dòng sông đó loài rong yên ngủ sâu\n",
    "mới hôm nào bão trên đầu lời ca đau trên cao\n",
    "\n",
    "ngàn mây xám chiều nay về đây treo lững lờ\n",
    "và tiếng hát về ru mình trong giấc ngủ vừa\n",
    "rồi từ đó loài sâu nửa đêm quên đi ưu phiền\n",
    "để người về hát đêm hồng\n",
    "địa đàng còn in dấu chân bước quên\n",
    "\"\"\""
   ]
  },
  {
   "cell_type": "code",
   "execution_count": 8,
   "id": "14c44a2a",
   "metadata": {},
   "outputs": [],
   "source": [
    "txt = txt.lower().replace(\"!\",\"\")"
   ]
  },
  {
   "cell_type": "code",
   "execution_count": 9,
   "id": "4a193090",
   "metadata": {},
   "outputs": [
    {
     "data": {
      "text/plain": [
       "'trời buông gió và mây về ngang bên lưng đèo\\nmùa xanh lá loài sâu ngủ quên trong tóc chiều\\ncuộc đời đó nửa đêm tiếng ca lên như than phiền\\nbàng hoàng lạc gió mây miền\\ntrùng trùng ngoài khơi nước lên sóng mềm\\n\\nngựa buông vó, người đi chùng chân đã bao lần\\nnửa đêm đó lời ca dạ lan như ngại ngùng\\nvùng u tối loài sâu hát lên khúc ca cuối cùng\\nmột đời bỏ ngỏ đêm hồng\\nngoài trời còn dâng nước lên mắt em\\n\\ntiếng ca bắt nguồn từ đất khô\\ntừ mưa gió từ vào trong đá xưa\\nđến bây giờ mắt đã mù tóc xanh đen vầng trán thơ\\ndòng sông đó loài rong yên ngủ sâu\\nmới hôm nào bão trên đầu lời ca đau trên cao\\n\\nngàn mây xám chiều nay về đây treo lững lờ\\nvà tiếng hát về ru mình trong giấc ngủ vừa\\nrồi từ đó loài sâu nửa đêm quên đi ưu phiền\\nđể người về hát đêm hồng\\nđịa đàng còn in dấu chân bước quên\\n'"
      ]
     },
     "execution_count": 9,
     "metadata": {},
     "output_type": "execute_result"
    }
   ],
   "source": [
    "txt"
   ]
  },
  {
   "cell_type": "code",
   "execution_count": 10,
   "id": "d621675a",
   "metadata": {},
   "outputs": [
    {
     "data": {
      "text/plain": [
       "'phơm nhoen nhéc pép nhẹng đoạo đỉn duổm mừa moẽn bượu ựu nù guỹn sẩng tréng pầy phoãi nhọm đuỳu dưu ruềnh thịm voạm xậng kễnh điệc coẹm xạng ghí puýt ruốt khửn truơ nhéc nhẹng sốn xiệng xiệng trẳng xừa duếnh coẹm chộm pứm pươu nhoen vó, giớt ưỡng nhoại xoẳn trõi quáp phựm voạm xậng thịm thoẹo điệc pãi đoóc xạng đếnh xĩn nhưỡi ruỷnh gị guỹn sẩng poóc coẹm suỹnh điệc mịu ghiệm noen ruềnh lứi nuề xậng ghịch trẳng phơm nộc rẫn duếnh coẹm cứi thoẹ kễnh điệc phẽ quỹa hiễu pẹm bễn hiễu lếm nhéc hiễu trễn phoãi noác muất khiễn ním pịu cứi trõi coàng nhọm ựu thoà puợ gố voản rễnh nhui thịm guỹn ngoãy truể tréng sẩng thoóng sươm chệt chuầng chuợ vín thoẹo điệc moắt chuợ quễn phọm nhẹng moáo đuỳu lứm đoạo día ền rừn nhêm pép kễnh poóc đoạo phiềm khệp phoãi ịm tréng bờn nhưm hiễu thịm guỹn sẩng voạm xậng pầy ưỡng khụp puýt nhướng giớt đoạo poóc xậng ghịch voèo riếp nộc mưi tuỷu xoẳn quoẹ pầy'"
      ]
     },
     "execution_count": 10,
     "metadata": {},
     "output_type": "execute_result"
    }
   ],
   "source": [
    "trans(txt)"
   ]
  },
  {
   "cell_type": "code",
   "execution_count": 11,
   "id": "c43c98f4",
   "metadata": {},
   "outputs": [
    {
     "data": {
      "text/plain": [
       "'sữi nghĩm'"
      ]
     },
     "execution_count": 11,
     "metadata": {},
     "output_type": "execute_result"
    }
   ],
   "source": [
    "trans(\"hạ trắng\")"
   ]
  },
  {
   "cell_type": "code",
   "execution_count": 12,
   "id": "0b0dd715",
   "metadata": {},
   "outputs": [
    {
     "data": {
      "text/plain": [
       "'giuấng nẩng thoẹ'"
      ]
     },
     "execution_count": 12,
     "metadata": {},
     "output_type": "execute_result"
    }
   ],
   "source": [
    "trans(\"anh yêu em\")"
   ]
  },
  {
   "cell_type": "code",
   "execution_count": 13,
   "id": "31c40253",
   "metadata": {},
   "outputs": [
    {
     "data": {
      "text/plain": [
       "'ìu nẩng thoẹ'"
      ]
     },
     "execution_count": 13,
     "metadata": {},
     "output_type": "execute_result"
    }
   ],
   "source": [
    "trans(\"tôi yêu em\")"
   ]
  },
  {
   "cell_type": "code",
   "execution_count": 14,
   "id": "da205b1c",
   "metadata": {},
   "outputs": [
    {
     "data": {
      "text/plain": [
       "'pằm giuẫy'"
      ]
     },
     "execution_count": 14,
     "metadata": {},
     "output_type": "execute_result"
    }
   ],
   "source": [
    "trans(\"vô thường\")"
   ]
  },
  {
   "cell_type": "code",
   "execution_count": 15,
   "id": "49ddd30b",
   "metadata": {},
   "outputs": [
    {
     "data": {
      "text/plain": [
       "'guậy truỷn'"
      ]
     },
     "execution_count": 15,
     "metadata": {},
     "output_type": "execute_result"
    }
   ],
   "source": [
    "trans(\"thành công\")"
   ]
  },
  {
   "cell_type": "code",
   "execution_count": 16,
   "id": "12fe2c90",
   "metadata": {},
   "outputs": [
    {
     "data": {
      "text/plain": [
       "'khửn nghiếu giuấng'"
      ]
     },
     "execution_count": 16,
     "metadata": {},
     "output_type": "execute_result"
    }
   ],
   "source": [
    "trans(\"hoàng lê anh\")"
   ]
  },
  {
   "cell_type": "code",
   "execution_count": 17,
   "id": "869aad4e",
   "metadata": {},
   "outputs": [
    {
     "data": {
      "text/plain": [
       "'ìu hễn khọ cẩng'"
      ]
     },
     "execution_count": 17,
     "metadata": {},
     "output_type": "execute_result"
    }
   ],
   "source": [
    "trans(\"tôi đang ăn cơm\")"
   ]
  },
  {
   "cell_type": "code",
   "execution_count": 18,
   "id": "92ffa919",
   "metadata": {},
   "outputs": [
    {
     "data": {
      "text/plain": [
       "'nhề pỗi thoẹ phuýn'"
      ]
     },
     "execution_count": 18,
     "metadata": {},
     "output_type": "execute_result"
    }
   ],
   "source": [
    "trans(\"chỉ có em hiểu\")"
   ]
  },
  {
   "cell_type": "code",
   "execution_count": 19,
   "id": "ea545b42",
   "metadata": {},
   "outputs": [
    {
     "data": {
      "text/plain": [
       "'xệnh nghiềm'"
      ]
     },
     "execution_count": 19,
     "metadata": {},
     "output_type": "execute_result"
    }
   ],
   "source": [
    "trans(\"hạnh phúc\")"
   ]
  },
  {
   "cell_type": "code",
   "execution_count": 20,
   "id": "62b62972",
   "metadata": {},
   "outputs": [
    {
     "data": {
      "text/plain": [
       "'nhêu giủa'"
      ]
     },
     "execution_count": 20,
     "metadata": {},
     "output_type": "execute_result"
    }
   ],
   "source": [
    "trans(\"hoa cúc\")"
   ]
  },
  {
   "cell_type": "code",
   "execution_count": 21,
   "id": "15bd7d74",
   "metadata": {},
   "outputs": [
    {
     "data": {
      "text/plain": [
       "'giỗm goẽo xẫm tuýu'"
      ]
     },
     "execution_count": 21,
     "metadata": {},
     "output_type": "execute_result"
    }
   ],
   "source": [
    "trans(\"bạn tên là gì\")"
   ]
  },
  {
   "cell_type": "code",
   "execution_count": 22,
   "id": "f4d2a8a6",
   "metadata": {},
   "outputs": [
    {
     "data": {
      "text/plain": [
       "'puya pỗi hoăn giẽng bọm xướn tẹp vến khoáp noòng moắt xượp voà phộ ượp khoáp puể roăm pườm xạng phoẽn kĩn dừi nừm khoáp buẩn suộp trõ cửa. vuệ đoắng nuỗi nhoọc tẳm mụp quể nhướng giẽng pỗi muyễn nộc dõm huôn phoẽn kĩn hĩa vuếch .'"
      ]
     },
     "execution_count": 22,
     "metadata": {},
     "output_type": "execute_result"
    }
   ],
   "source": [
    "trans(\"nhờ có cách viết này tha hồ nói những niềm đau thầm kín kể cả những chuyện tệ hại như xem phim heo hay những bề bộn nhà cửa. mỗi ngày dành hẳn ba mươi phút để viết có khi còn tốt hơn xem phim ấy chứ .\")"
   ]
  },
  {
   "cell_type": "code",
   "execution_count": 23,
   "id": "37728aa0",
   "metadata": {},
   "outputs": [
    {
     "data": {
      "text/plain": [
       "'giuyền giuyền quáp chẫn xuốm quáp noòng xuỗi giùa phuýn voẵn nhoẳn chệt giớt giớt pỗi phuýn moáy khệp qúng xuỗi roão moắt ruềnh boỏng dổ khềnh phoèo guẩn xuốm đoắng dỉ xẽn poạng rúa nộc día giựn xếm rúa noen đoắng coẹm vuỳu thóm giển'"
      ]
     },
     "execution_count": 23,
     "metadata": {},
     "output_type": "execute_result"
    }
   ],
   "source": [
    "txt = \"\"\"rầu rầu bao năm tháng bao niềm lòng ai hiểu được nhau\n",
    "nào người người có hiểu đâu mình ta lòng đớn đau\n",
    "đời nghiệt oan nhiều chia phôi tháng ngày thao thúc đợi mong\n",
    "còn đây khát vọng mong một ngày lên đường quang vinh\n",
    "\"\"\"\n",
    "trans(txt.lower())"
   ]
  },
  {
   "cell_type": "code",
   "execution_count": 24,
   "id": "0929fb8a",
   "metadata": {},
   "outputs": [
    {
     "data": {
      "text/plain": [
       "'giuông truỷn'"
      ]
     },
     "execution_count": 24,
     "metadata": {},
     "output_type": "execute_result"
    }
   ],
   "source": [
    "trans(\"khí công\")"
   ]
  },
  {
   "cell_type": "code",
   "execution_count": 25,
   "id": "ba89f620",
   "metadata": {},
   "outputs": [
    {
     "data": {
      "text/plain": [
       "'phắn'"
      ]
     },
     "execution_count": 25,
     "metadata": {},
     "output_type": "execute_result"
    }
   ],
   "source": [
    "trans(\"buồn\")"
   ]
  },
  {
   "cell_type": "code",
   "execution_count": 26,
   "id": "e9221983",
   "metadata": {},
   "outputs": [
    {
     "data": {
      "text/plain": [
       "'xoằn'"
      ]
     },
     "execution_count": 26,
     "metadata": {},
     "output_type": "execute_result"
    }
   ],
   "source": [
    "trans(\"mệt\")"
   ]
  },
  {
   "cell_type": "code",
   "execution_count": 27,
   "id": "a9373c4e",
   "metadata": {},
   "outputs": [
    {
     "data": {
      "text/plain": [
       "'xoằn pép phắn'"
      ]
     },
     "execution_count": 27,
     "metadata": {},
     "output_type": "execute_result"
    }
   ],
   "source": [
    "trans(\"mệt và buồn\")"
   ]
  },
  {
   "cell_type": "code",
   "execution_count": 28,
   "id": "4d2cedca",
   "metadata": {},
   "outputs": [
    {
     "data": {
      "text/plain": [
       "'noòng phượi'"
      ]
     },
     "execution_count": 28,
     "metadata": {},
     "output_type": "execute_result"
    }
   ],
   "source": [
    "trans(\"niềm vui\")"
   ]
  },
  {
   "cell_type": "code",
   "execution_count": 29,
   "id": "afde9e33",
   "metadata": {},
   "outputs": [
    {
     "data": {
      "text/plain": [
       "'sươm đuợ'"
      ]
     },
     "execution_count": 29,
     "metadata": {},
     "output_type": "execute_result"
    }
   ],
   "source": [
    "trans(\"hôm qua\")"
   ]
  },
  {
   "cell_type": "code",
   "execution_count": 30,
   "id": "3e9b911d",
   "metadata": {},
   "outputs": [
    {
     "data": {
      "text/plain": [
       "'trụp'"
      ]
     },
     "execution_count": 30,
     "metadata": {},
     "output_type": "execute_result"
    }
   ],
   "source": [
    "trans(\"bận\")"
   ]
  },
  {
   "cell_type": "code",
   "execution_count": 31,
   "id": "cb4e882f",
   "metadata": {},
   "outputs": [
    {
     "data": {
      "text/plain": [
       "'phuỳu'"
      ]
     },
     "execution_count": 31,
     "metadata": {},
     "output_type": "execute_result"
    }
   ],
   "source": [
    "trans(\"rảnh\")"
   ]
  },
  {
   "cell_type": "code",
   "execution_count": 32,
   "id": "a18d1c60",
   "metadata": {},
   "outputs": [
    {
     "data": {
      "text/plain": [
       "'trỳ'"
      ]
     },
     "execution_count": 32,
     "metadata": {},
     "output_type": "execute_result"
    }
   ],
   "source": [
    "trans(\"ốm\")"
   ]
  },
  {
   "cell_type": "code",
   "execution_count": 33,
   "id": "9ed56ce7",
   "metadata": {},
   "outputs": [
    {
     "data": {
      "text/plain": [
       "'gioẵn'"
      ]
     },
     "execution_count": 33,
     "metadata": {},
     "output_type": "execute_result"
    }
   ],
   "source": [
    "trans(\"không\")"
   ]
  },
  {
   "cell_type": "code",
   "execution_count": 34,
   "id": "df599c08",
   "metadata": {},
   "outputs": [
    {
     "data": {
      "text/plain": [
       "'ngới vồi'"
      ]
     },
     "execution_count": 34,
     "metadata": {},
     "output_type": "execute_result"
    }
   ],
   "source": [
    "trans(\"ấu trĩ\")"
   ]
  },
  {
   "cell_type": "code",
   "execution_count": 35,
   "id": "491006d9",
   "metadata": {},
   "outputs": [
    {
     "data": {
      "text/plain": [
       "'khởm trửi'"
      ]
     },
     "execution_count": 35,
     "metadata": {},
     "output_type": "execute_result"
    }
   ],
   "source": [
    "trans(\"điên rồ\")"
   ]
  },
  {
   "cell_type": "code",
   "execution_count": 36,
   "id": "1eb9020f",
   "metadata": {},
   "outputs": [
    {
     "data": {
      "text/plain": [
       "'rênh giễnh'"
      ]
     },
     "execution_count": 36,
     "metadata": {},
     "output_type": "execute_result"
    }
   ],
   "source": [
    "trans(\"quyết tâm\")"
   ]
  },
  {
   "cell_type": "code",
   "execution_count": 37,
   "id": "5b5517d7",
   "metadata": {},
   "outputs": [
    {
     "data": {
      "text/plain": [
       "'chưu truổn'"
      ]
     },
     "execution_count": 37,
     "metadata": {},
     "output_type": "execute_result"
    }
   ],
   "source": [
    "trans(\"cố gắng\")"
   ]
  },
  {
   "cell_type": "code",
   "execution_count": 38,
   "id": "388f8720",
   "metadata": {},
   "outputs": [
    {
     "data": {
      "text/plain": [
       "'doém choạnh'"
      ]
     },
     "execution_count": 38,
     "metadata": {},
     "output_type": "execute_result"
    }
   ],
   "source": [
    "trans(\"hẹn hò\")"
   ]
  },
  {
   "cell_type": "code",
   "execution_count": 39,
   "id": "f4c5c9e6",
   "metadata": {
    "scrolled": true
   },
   "outputs": [
    {
     "data": {
      "text/plain": [
       "'moè xươm'"
      ]
     },
     "execution_count": 39,
     "metadata": {},
     "output_type": "execute_result"
    }
   ],
   "source": [
    "trans(\"hàn huyên\")"
   ]
  },
  {
   "cell_type": "code",
   "execution_count": 40,
   "id": "f1b5ea36",
   "metadata": {},
   "outputs": [
    {
     "data": {
      "text/plain": [
       "'giỗm nguýn'"
      ]
     },
     "execution_count": 40,
     "metadata": {},
     "output_type": "execute_result"
    }
   ],
   "source": [
    "trans(\"bạn thân\")"
   ]
  },
  {
   "cell_type": "code",
   "execution_count": 41,
   "id": "26bbef87",
   "metadata": {},
   "outputs": [
    {
     "data": {
      "text/plain": [
       "'quiêu thuề'"
      ]
     },
     "execution_count": 41,
     "metadata": {},
     "output_type": "execute_result"
    }
   ],
   "source": [
    "trans(\"đọc sách\")"
   ]
  },
  {
   "cell_type": "code",
   "execution_count": 42,
   "id": "eef5c3a3",
   "metadata": {},
   "outputs": [
    {
     "data": {
      "text/plain": [
       "'giữm thồi'"
      ]
     },
     "execution_count": 42,
     "metadata": {},
     "output_type": "execute_result"
    }
   ],
   "source": [
    "trans(\"mua sắm\")"
   ]
  },
  {
   "cell_type": "code",
   "execution_count": 43,
   "id": "ee1a8cc5",
   "metadata": {},
   "outputs": [
    {
     "data": {
      "text/plain": [
       "'dườn khười'"
      ]
     },
     "execution_count": 43,
     "metadata": {},
     "output_type": "execute_result"
    }
   ],
   "source": [
    "trans(\"nghe nhạc\")"
   ]
  },
  {
   "cell_type": "code",
   "execution_count": 44,
   "id": "b4ca9a61",
   "metadata": {},
   "outputs": [
    {
     "data": {
      "text/plain": [
       "'vuổn trõ'"
      ]
     },
     "execution_count": 44,
     "metadata": {},
     "output_type": "execute_result"
    }
   ],
   "source": [
    "trans(\"dọn nhà\")"
   ]
  },
  {
   "cell_type": "code",
   "execution_count": 45,
   "id": "eaccb91b",
   "metadata": {},
   "outputs": [
    {
     "data": {
      "text/plain": [
       "'nghiều'"
      ]
     },
     "execution_count": 45,
     "metadata": {},
     "output_type": "execute_result"
    }
   ],
   "source": [
    "trans(\"nấu\")"
   ]
  },
  {
   "cell_type": "code",
   "execution_count": 46,
   "id": "433c066b",
   "metadata": {},
   "outputs": [
    {
     "data": {
      "text/plain": [
       "'chách giềnh phoăm'"
      ]
     },
     "execution_count": 46,
     "metadata": {},
     "output_type": "execute_result"
    }
   ],
   "source": [
    "trans(\"tập thể dục\")"
   ]
  },
  {
   "cell_type": "code",
   "execution_count": 47,
   "id": "fe67bfde",
   "metadata": {},
   "outputs": [
    {
     "data": {
      "text/plain": [
       "'tréng xểm nghểu cữn xển chách giềnh phoăm pép ưỡng phoẻo xểm . gioẵn duỵnh soẳng roẹ giăn qúm nhề noen tũm oằm soẳng noen tũm khềnh phựm nhoa khướn guậy gúc khềnh . thộn thườu muyễn ưỡng tréng nuộng doảy quiêu ững khữm loăm thuề trõi giữm độm loãm pỗi roẹ giăn quiêu . pép nghiều yễm cẩng đoắng cữn soắt vuếch , gioẵn phuỳu roảng moáy . nộc loãm phộ nộc hễn loãm thởm hịn sựi khười ( choèn qúm pỗi giềnh gioẵn thởm duýnh gioẵn ngậng ) , vến loéo xẫm doảy phẽ vín truỷn dưu siệm ngạu nhữi nhề xạng noen uê hộn phuồng vạo . vốm kệp giùa thịm nhề phoẻo gioắm thiệm giễnh phẵm pép khoẵng roẹ giăn , gioẵn giụm nhướng sãnh thịm pày giướn . nuộng doảy chưu truổn huôn gúc khềnh thườu phuỵt phoèo loẵng boăm phõ điệng guậy phuyền puỹnh giậng duýnh xẫm 1 sửm nển suyệt ịnh thuyễn . loẵng nộc doảy siệm choẽn quẩu khoáp ránh thoóng soắt vuếch . nhuôi phoẻo khềnh ránh xẫm noen puể nộc nhuôi phoẻo giế dõm noen ránh chệt thịm nhoa loẵng xẫm noen rìn nghéc suỗm rịnh vươu . nuộng doảy phuồng doòng xểm thộn độm gioẵn voẵn nhướng chuýt xoém vuống . giều troém nịp ruỷn khệp duýnh nộc gúc khềnh rìn nghéc mỉnh pữ nhướng phoẻo độm loãm pỗi troém nịp . độm gioét xạng đưm khoáp giớt trụp roem nhoa ghiếm guôi quiêu noen loăm thuề xẫm noen sãnh nọn uở hoạy .'"
      ]
     },
     "execution_count": 47,
     "metadata": {},
     "output_type": "execute_result"
    }
   ],
   "source": [
    "trans(\"ngủ sớm sáng mai dậy tập thể dục và đi làm sớm . không muốn phí thời gian dù chỉ một chút vì phí một chút nhiều lần thì sẽ thành rất nhiều . nhưng trước khi đi ngủ cần phải đọc nhanh vài cuốn sách đã mua mà chưa có thời gian đọc . và nấu bữa cơm ngày mai nữa chứ , không rảnh rỗi đâu . còn chưa kể còn đang chưa đăng mấy bản nhạc ( mặc dù có thể không đăng cũng không sao ) , nói chung là phải bắt đầu công cuộc học hành chăm chỉ như một kỹ sư thực thụ . gặp gỡ ai đó chỉ làm rối ren tâm trí và mất thời gian , không nên để điều đó xảy ra . cần phải cố gắng hơn rất nhiều trước tiên chia lại đống ghi chú thành từng nhóm riêng cũng là 1 việc hết sức quan trọng . lại còn phải học cấp tốc những thứ mới nữa chứ . biết làm nhiều thứ là một chuyện còn biết làm thật tốt một thứ nào đó thì lại là một vấn đề khá phức tạp . cần phải thực hiện sớm nhưng mà không được để căng thẳng quá . cái nghiên cứu của mình cũng còn rất nhiều vấn đề thú vị để làm mà chưa có nghiên cứu . mà hình như với những người bận rộn thì cơ hội đọc một cuốn sách là một điều thiêng liêng lắm .\")"
   ]
  },
  {
   "cell_type": "code",
   "execution_count": 48,
   "id": "eaa6cd1e",
   "metadata": {},
   "outputs": [
    {
     "data": {
      "text/plain": [
       "'pẽ pặc dượi pặp ịp giạnh voải vuểnh vụi'"
      ]
     },
     "execution_count": 48,
     "metadata": {},
     "output_type": "execute_result"
    }
   ],
   "source": [
    "trans(\"ổn định hiệu quả trải nghiệm ý kiến thức\")"
   ]
  },
  {
   "cell_type": "code",
   "execution_count": 49,
   "id": "16ecf598",
   "metadata": {},
   "outputs": [
    {
     "data": {
      "text/plain": [
       "'ìu xẫm noen giớt ruậng ngoãm trý pép xẫm noen đện dưu pọt ruỷn ìu gúc trụp roem pép ìu chạt doảy duềnh khệp thộn ìu puột tũi ìu khướn pẽ pặc'"
      ]
     },
     "execution_count": 49,
     "metadata": {},
     "output_type": "execute_result"
    }
   ],
   "source": [
    "trans(\"\"\"tôi là một người đồng tính nam và là một bốt\n",
    "cuộc sống của tôi rất bận rộn và tôi luôn phải gồng mình\n",
    "nhưng tôi tin rằng tôi sẽ ổn định\n",
    "\"\"\")"
   ]
  },
  {
   "cell_type": "code",
   "execution_count": 50,
   "id": "3d9976bd",
   "metadata": {},
   "outputs": [
    {
     "data": {
      "text/plain": [
       "'khệp thạu noen trản pạy giuẫn phuệ , voẵn trản đoách rợt , khệp tọi rợt trễn khốt loẵn lữi hỏa nuỵp thìu vẩng thìu gảo đoách phoặng chợi'"
      ]
     },
     "execution_count": 50,
     "metadata": {},
     "output_type": "execute_result"
    }
   ],
   "source": [
    "trans(\"mình giúp một cụ già xách đồ , được cụ cho kẹo , mình ngậm kẹo vào thi lúc phun hỏa độn bị hỏng bị đánh cho bầm dập\")"
   ]
  },
  {
   "cell_type": "code",
   "execution_count": 51,
   "id": "b02856cc",
   "metadata": {},
   "outputs": [
    {
     "data": {
      "text/plain": [
       "'gúc khềnh ránh ìu pũa tuẩn ưỡng voẵn voạm vuỳu phuậng duỵnh lứi dưu nhướng chách tưởu trễn ránh tuẩn ìu . thộn nhề nuộng ìu rợi nhề voẵn vẵm truỳn gị ránh thộng nhoa đuểnh puể khướn pẽ . ìu gioẵn pỗi guẫn guổm giễnh khuý , ìu phuýn xẫm tẹ cuỳu phĩnh truơ sựm nhề xẫm nhướng ìu pỗi tũm hoam nhềnh đoách dưu ruềnh phột voải gioặn , doăng nghẽm độm . ìu dựi nuộng tuýu huôn muyễn độm khoáp ránh tuẩn ìu ìu trặng gioẵn nuỗi thèng roẹ giăn đoách khưỡu . ìu khướn phẽ vín loẵng hiễu vín , xuốm 8 puyên pượi truể khiễn đưm ìu đuyết . hiễu pịu ìu khướn nhề hoam 1 troạo truỵa xẫm ìu độm nghẽm mữu nguýn xoằn vuống'"
      ]
     },
     "execution_count": 51,
     "metadata": {},
     "output_type": "execute_result"
    }
   ],
   "source": [
    "trans(\"\"\"rất nhiều thứ tôi lựa chọn đi được nửa đường đều muốn bỏ cuộc để tập trung vào thứ chọn tôi . nhưng chỉ cần tôi duy chỉ được nhịp độ tối thứ sáu thì mọi chuyện sẽ ổn . tôi không có nhu cầu tâm sự , tôi hiểu là hoạt động câu lạc bộ chỉ là để tôi có chút đóng góp cho cuộc đời thêm ý nghĩa , thế thôi mà . tôi chẳng cần gì hơn khi mà những thứ chọn tôi tôi vẫn không dành đủ thời gian cho nó . tôi sẽ bắt đầu lại từ đầu , tháng 8 ơi bình yên đến với tôi nhé . từ giờ tôi sẽ chỉ đóng 1 vai trò là tôi mà thôi phân thân mệt quá\"\"\")"
   ]
  },
  {
   "cell_type": "code",
   "execution_count": 53,
   "id": "3894fe2c",
   "metadata": {},
   "outputs": [
    {
     "data": {
      "text/plain": [
       "'sươm lứm / bượu dướn trõi đoạo / bượu dướn nừm phắn tréng / thụn phoẻo suỷ suyệt'"
      ]
     },
     "execution_count": 53,
     "metadata": {},
     "output_type": "execute_result"
    }
   ],
   "source": [
    "trans(\"hôm nay / mùa thu đã về / mùa thu hay buồn ngủ / đừng làm kiệt sức\")"
   ]
  },
  {
   "cell_type": "code",
   "execution_count": null,
   "id": "49003b21",
   "metadata": {},
   "outputs": [],
   "source": []
  },
  {
   "cell_type": "code",
   "execution_count": null,
   "id": "b8a84cb5",
   "metadata": {},
   "outputs": [],
   "source": []
  },
  {
   "cell_type": "code",
   "execution_count": null,
   "id": "d342465c",
   "metadata": {},
   "outputs": [],
   "source": []
  },
  {
   "cell_type": "code",
   "execution_count": null,
   "id": "8d8595b2",
   "metadata": {},
   "outputs": [],
   "source": []
  },
  {
   "cell_type": "code",
   "execution_count": null,
   "id": "7415db06",
   "metadata": {},
   "outputs": [],
   "source": []
  },
  {
   "cell_type": "code",
   "execution_count": null,
   "id": "5dcecfeb",
   "metadata": {},
   "outputs": [],
   "source": []
  },
  {
   "cell_type": "code",
   "execution_count": null,
   "id": "05914c91",
   "metadata": {},
   "outputs": [],
   "source": []
  },
  {
   "cell_type": "code",
   "execution_count": null,
   "id": "e96bcd8a",
   "metadata": {},
   "outputs": [],
   "source": []
  },
  {
   "cell_type": "code",
   "execution_count": null,
   "id": "d4ec7596",
   "metadata": {},
   "outputs": [],
   "source": []
  },
  {
   "cell_type": "code",
   "execution_count": null,
   "id": "1f34965a",
   "metadata": {},
   "outputs": [],
   "source": []
  },
  {
   "cell_type": "code",
   "execution_count": null,
   "id": "10385068",
   "metadata": {},
   "outputs": [],
   "source": []
  },
  {
   "cell_type": "code",
   "execution_count": null,
   "id": "dcc38e33",
   "metadata": {},
   "outputs": [],
   "source": []
  }
 ],
 "metadata": {
  "kernelspec": {
   "display_name": "Python 3 (ipykernel)",
   "language": "python",
   "name": "python3"
  },
  "language_info": {
   "codemirror_mode": {
    "name": "ipython",
    "version": 3
   },
   "file_extension": ".py",
   "mimetype": "text/x-python",
   "name": "python",
   "nbconvert_exporter": "python",
   "pygments_lexer": "ipython3",
   "version": "3.9.12"
  }
 },
 "nbformat": 4,
 "nbformat_minor": 5
}
