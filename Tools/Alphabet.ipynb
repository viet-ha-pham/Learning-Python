{
 "cells": [
  {
   "cell_type": "code",
   "execution_count": 2,
   "id": "cc075afa",
   "metadata": {},
   "outputs": [
    {
     "name": "stdout",
     "output_type": "stream",
     "text": [
      "Requirement already satisfied: pygame in d:\\anaconda3\\lib\\site-packages (2.4.0)\n"
     ]
    }
   ],
   "source": [
    "!pip install pygame"
   ]
  },
  {
   "cell_type": "code",
   "execution_count": 4,
   "id": "0f22bbb1",
   "metadata": {},
   "outputs": [
    {
     "name": "stdout",
     "output_type": "stream",
     "text": [
      "Moviepy - Building video hebrew_alphabet.mp4.\n",
      "Moviepy - Writing video hebrew_alphabet.mp4\n",
      "\n"
     ]
    },
    {
     "name": "stderr",
     "output_type": "stream",
     "text": [
      "                                                                                                                       \r"
     ]
    },
    {
     "name": "stdout",
     "output_type": "stream",
     "text": [
      "Moviepy - Done !\n",
      "Moviepy - video ready hebrew_alphabet.mp4\n"
     ]
    }
   ],
   "source": [
    "from PIL import Image, ImageDraw, ImageFont\n",
    "from moviepy.editor import ImageSequenceClip\n",
    "import numpy as np\n",
    "# Khởi tạo font chữ\n",
    "font = ImageFont.truetype('times.ttf', 500)\n",
    "\n",
    "# Tạo danh sách các chữ cái tiếng Hebrew\n",
    "letters = 'אבגדהוזחטיכלמנסעפצקרשת' \n",
    "letters = letters * 10\n",
    "# Tạo danh sách các khung hình\n",
    "frames = []\n",
    "for letter in letters:\n",
    "    # Tạo ảnh chứa chữ cái\n",
    "    image = Image.new('RGB', (1080, 1920), (0, 0, 0))\n",
    "    draw = ImageDraw.Draw(image)\n",
    "    text_width, text_height = draw.textsize(letter, font=font)\n",
    "    x = (1080 - text_width) / 2\n",
    "    y = (1920 - text_height) / 2\n",
    "    draw.text((x, y), letter, font=font, fill=(255, 255, 255))\n",
    "    # Thêm ảnh vào danh sách khung hình\n",
    "    frames.append(np.array(image))\n",
    "\n",
    "# Tạo video từ danh sách khung hình\n",
    "clip = ImageSequenceClip(frames, fps=1)\n",
    "clip.write_videofile('hebrew_alphabet.mp4')"
   ]
  },
  {
   "cell_type": "code",
   "execution_count": 7,
   "id": "e9e09b57",
   "metadata": {},
   "outputs": [
    {
     "name": "stdout",
     "output_type": "stream",
     "text": [
      "Moviepy - Building video georgian_alphabet.mp4.\n",
      "Moviepy - Writing video georgian_alphabet.mp4\n",
      "\n"
     ]
    },
    {
     "name": "stderr",
     "output_type": "stream",
     "text": [
      "                                                                                                                       \r"
     ]
    },
    {
     "name": "stdout",
     "output_type": "stream",
     "text": [
      "Moviepy - Done !\n",
      "Moviepy - video ready georgian_alphabet.mp4\n"
     ]
    }
   ],
   "source": [
    "from PIL import Image, ImageDraw, ImageFont\n",
    "from moviepy.editor import ImageSequenceClip\n",
    "import numpy as np\n",
    "\n",
    "# Khởi tạo font chữ\n",
    "font = ImageFont.truetype('C:/Windows/Fonts/Sylfaen.ttf', 500)\n",
    "\n",
    "# Tạo danh sách các chữ cái tiếng Georgian\n",
    "letters = 'აბგდევზთიკლმნოპჟრსტუფქღყშჩცძწჭხჯჰ'\n",
    "letters = letters * 10\n",
    "# Tạo danh sách các khung hình\n",
    "frames = []\n",
    "for letter in letters:\n",
    "    # Tạo ảnh chứa chữ cái\n",
    "    image = Image.new('RGB', (1080, 1920), (0, 0, 0))\n",
    "    draw = ImageDraw.Draw(image)\n",
    "    text_width, text_height = draw.textsize(letter, font=font)\n",
    "    x = (1920 - text_width) / 2\n",
    "    y = (1080 - text_height) / 2\n",
    "    draw.text((x, y), letter, font=font, fill=(255, 255, 255))\n",
    "    # Thêm ảnh vào danh sách khung hình\n",
    "    frames.append(np.array(image))\n",
    "\n",
    "# Tạo video từ danh sách khung hình\n",
    "clip = ImageSequenceClip(frames, fps=1)\n",
    "clip.write_videofile('georgian_alphabet.mp4')"
   ]
  },
  {
   "cell_type": "code",
   "execution_count": 8,
   "id": "0d939735",
   "metadata": {},
   "outputs": [
    {
     "name": "stdout",
     "output_type": "stream",
     "text": [
      "290\n",
      "Moviepy - Building video arabic_alphabet.mp4.\n",
      "Moviepy - Writing video arabic_alphabet.mp4\n",
      "\n"
     ]
    },
    {
     "name": "stderr",
     "output_type": "stream",
     "text": [
      "                                                                                                                       \r"
     ]
    },
    {
     "name": "stdout",
     "output_type": "stream",
     "text": [
      "Moviepy - Done !\n",
      "Moviepy - video ready arabic_alphabet.mp4\n"
     ]
    }
   ],
   "source": [
    "from PIL import Image, ImageDraw, ImageFont\n",
    "from moviepy.editor import ImageSequenceClip\n",
    "import numpy as np\n",
    "\n",
    "# Khởi tạo font chữ\n",
    "font = ImageFont.truetype('C:/Windows/Fonts/Calibri.ttf', 500)\n",
    "\n",
    "# Tạo danh sách các chữ cái tiếng Sinhala\n",
    "letters = 'ابتثجحخدذرزسشصضطظعغفقكلمنهويء'\n",
    "letters = letters * 10\n",
    "print(len(letters))\n",
    "# Tạo danh sách các khung hình\n",
    "frames = []\n",
    "for letter in letters:\n",
    "    # Tạo ảnh chứa chữ cái\n",
    "    image = Image.new('RGB', (1080, 1920), (0, 0, 0))\n",
    "    draw = ImageDraw.Draw(image)\n",
    "    text_width, text_height = draw.textsize(letter, font=font)\n",
    "    x = (1080 - text_width) / 2\n",
    "    y = (1920 - text_height) / 2\n",
    "    draw.text((x, y), letter, font=font, fill=(255, 255, 255))\n",
    "    # Thêm ảnh vào danh sách khung hình\n",
    "    frames.append(np.array(image))\n",
    "\n",
    "# Tạo video từ danh sách khung hình\n",
    "clip = ImageSequenceClip(frames, fps=1)\n",
    "clip.write_videofile('arabic_alphabet.mp4')"
   ]
  },
  {
   "cell_type": "code",
   "execution_count": 15,
   "id": "c159e2c1",
   "metadata": {},
   "outputs": [
    {
     "name": "stdout",
     "output_type": "stream",
     "text": [
      "44\n",
      "Moviepy - Building video thai_alphabet.mp4.\n",
      "Moviepy - Writing video thai_alphabet.mp4\n",
      "\n"
     ]
    },
    {
     "name": "stderr",
     "output_type": "stream",
     "text": [
      "                                                                                                                       \r"
     ]
    },
    {
     "name": "stdout",
     "output_type": "stream",
     "text": [
      "Moviepy - Done !\n",
      "Moviepy - video ready thai_alphabet.mp4\n"
     ]
    }
   ],
   "source": [
    "from PIL import Image, ImageDraw, ImageFont\n",
    "from moviepy.editor import ImageSequenceClip\n",
    "import numpy as np\n",
    "\n",
    "# Khởi tạo font chữ\n",
    "font = ImageFont.truetype('C:/Windows/Fonts/LeelawUI.ttf', 500)\n",
    "\n",
    "# Tạo danh sách các chữ cái tiếng Sinhala\n",
    "letters = 'กขฃคฅฆงจฉชซฌญฎฏฐฑฒณดตถทธนบปผฝพฟภมยรลวศษสหฬอฮ'\n",
    "print(len(letters))\n",
    "letters = letters * 10\n",
    "\n",
    "# Tạo danh sách các khung hình\n",
    "frames = []\n",
    "for letter in letters:\n",
    "    # Tạo ảnh chứa chữ cái\n",
    "    image = Image.new('RGB', (1080, 1920), (0, 0, 0))\n",
    "    draw = ImageDraw.Draw(image)\n",
    "    text_width, text_height = draw.textsize(letter, font=font)\n",
    "    x = (1080 - text_width) / 2\n",
    "    y = (1920 - text_height) / 2\n",
    "    draw.text((x, y), letter, font=font, fill=(255, 255, 255))\n",
    "    # Thêm ảnh vào danh sách khung hình\n",
    "    frames.append(np.array(image))\n",
    "\n",
    "# Tạo video từ danh sách khung hình\n",
    "clip = ImageSequenceClip(frames, fps=1)\n",
    "clip.write_videofile('thai_alphabet.mp4')"
   ]
  },
  {
   "cell_type": "code",
   "execution_count": 1,
   "id": "6456ca73",
   "metadata": {},
   "outputs": [
    {
     "name": "stdout",
     "output_type": "stream",
     "text": [
      "7\n",
      "Moviepy - Building video thai_alphabet_group1.mp4.\n",
      "Moviepy - Writing video thai_alphabet_group1.mp4\n",
      "\n"
     ]
    },
    {
     "name": "stderr",
     "output_type": "stream",
     "text": [
      "                                                                                                                       \r"
     ]
    },
    {
     "name": "stdout",
     "output_type": "stream",
     "text": [
      "Moviepy - Done !\n",
      "Moviepy - video ready thai_alphabet_group1.mp4\n"
     ]
    }
   ],
   "source": [
    "from PIL import Image, ImageDraw, ImageFont\n",
    "from moviepy.editor import ImageSequenceClip\n",
    "import numpy as np\n",
    "\n",
    "# Khởi tạo font chữ\n",
    "font = ImageFont.truetype('C:/Windows/Fonts/LeelawUI.ttf', 500)\n",
    "\n",
    "# Tạo danh sách các chữ cái tiếng Thai\n",
    "letters = 'กฌญฎฏณถ'\n",
    "print(len(letters))\n",
    "letters = letters * 10\n",
    "\n",
    "# Tạo danh sách các khung hình\n",
    "frames = []\n",
    "for letter in letters:\n",
    "    # Tạo ảnh chứa chữ cái\n",
    "    image = Image.new('RGB', (1080, 1920), (0, 0, 0))\n",
    "    draw = ImageDraw.Draw(image)\n",
    "    text_width, text_height = draw.textsize(letter, font=font)\n",
    "    x = (1080 - text_width) / 2\n",
    "    y = (1920 - text_height) / 2\n",
    "    draw.text((x, y), letter, font=font, fill=(255, 255, 255))\n",
    "    # Thêm ảnh vào danh sách khung hình\n",
    "    frames.append(np.array(image))\n",
    "\n",
    "# Tạo video từ danh sách khung hình\n",
    "clip = ImageSequenceClip(frames, fps=1)\n",
    "clip.write_videofile('thai_alphabet_group1.mp4')"
   ]
  },
  {
   "cell_type": "code",
   "execution_count": 2,
   "id": "a99ba18f",
   "metadata": {},
   "outputs": [
    {
     "name": "stdout",
     "output_type": "stream",
     "text": [
      "5\n",
      "Moviepy - Building video thai_alphabet_group2.mp4.\n",
      "Moviepy - Writing video thai_alphabet_group2.mp4\n",
      "\n"
     ]
    },
    {
     "name": "stderr",
     "output_type": "stream",
     "text": [
      "                                                                                                                       \r"
     ]
    },
    {
     "name": "stdout",
     "output_type": "stream",
     "text": [
      "Moviepy - Done !\n",
      "Moviepy - video ready thai_alphabet_group2.mp4\n"
     ]
    }
   ],
   "source": [
    "from PIL import Image, ImageDraw, ImageFont\n",
    "from moviepy.editor import ImageSequenceClip\n",
    "import numpy as np\n",
    "\n",
    "# Khởi tạo font chữ\n",
    "font = ImageFont.truetype('C:/Windows/Fonts/LeelawUI.ttf', 500)\n",
    "\n",
    "# Tạo danh sách các chữ cái tiếng Thai\n",
    "letters = 'ขฃฆชซ'\n",
    "print(len(letters))\n",
    "letters = letters * 10\n",
    "\n",
    "# Tạo danh sách các khung hình\n",
    "frames = []\n",
    "for letter in letters:\n",
    "    # Tạo ảnh chứa chữ cái\n",
    "    image = Image.new('RGB', (1080, 1920), (0, 0, 0))\n",
    "    draw = ImageDraw.Draw(image)\n",
    "    text_width, text_height = draw.textsize(letter, font=font)\n",
    "    x = (1080 - text_width) / 2\n",
    "    y = (1920 - text_height) / 2\n",
    "    draw.text((x, y), letter, font=font, fill=(255, 255, 255))\n",
    "    # Thêm ảnh vào danh sách khung hình\n",
    "    frames.append(np.array(image))\n",
    "\n",
    "# Tạo video từ danh sách khung hình\n",
    "clip = ImageSequenceClip(frames, fps=1)\n",
    "clip.write_videofile('thai_alphabet_group2.mp4')"
   ]
  },
  {
   "cell_type": "code",
   "execution_count": 3,
   "id": "b84aa8c6",
   "metadata": {},
   "outputs": [
    {
     "name": "stdout",
     "output_type": "stream",
     "text": [
      "6\n",
      "Moviepy - Building video thai_alphabet_group3.mp4.\n",
      "Moviepy - Writing video thai_alphabet_group3.mp4\n",
      "\n"
     ]
    },
    {
     "name": "stderr",
     "output_type": "stream",
     "text": [
      "                                                                                                                       \r"
     ]
    },
    {
     "name": "stdout",
     "output_type": "stream",
     "text": [
      "Moviepy - Done !\n",
      "Moviepy - video ready thai_alphabet_group3.mp4\n"
     ]
    }
   ],
   "source": [
    "from PIL import Image, ImageDraw, ImageFont\n",
    "from moviepy.editor import ImageSequenceClip\n",
    "import numpy as np\n",
    "\n",
    "# Khởi tạo font chữ\n",
    "font = ImageFont.truetype('C:/Windows/Fonts/LeelawUI.ttf', 500)\n",
    "\n",
    "# Tạo danh sách các chữ cái tiếng Sinhala\n",
    "letters = 'คฅฒดตศ'\n",
    "print(len(letters))\n",
    "letters = letters * 10\n",
    "\n",
    "# Tạo danh sách các khung hình\n",
    "frames = []\n",
    "for letter in letters:\n",
    "    # Tạo ảnh chứa chữ cái\n",
    "    image = Image.new('RGB', (1080, 1920), (0, 0, 0))\n",
    "    draw = ImageDraw.Draw(image)\n",
    "    text_width, text_height = draw.textsize(letter, font=font)\n",
    "    x = (1080 - text_width) / 2\n",
    "    y = (1920 - text_height) / 2\n",
    "    draw.text((x, y), letter, font=font, fill=(255, 255, 255))\n",
    "    # Thêm ảnh vào danh sách khung hình\n",
    "    frames.append(np.array(image))\n",
    "\n",
    "# Tạo video từ danh sách khung hình\n",
    "clip = ImageSequenceClip(frames, fps=1)\n",
    "clip.write_videofile('thai_alphabet_group3.mp4')"
   ]
  },
  {
   "cell_type": "code",
   "execution_count": null,
   "id": "30909b1b",
   "metadata": {},
   "outputs": [
    {
     "name": "stdout",
     "output_type": "stream",
     "text": [
      "29\n"
     ]
    }
   ],
   "source": [
    "from PIL import Image, ImageDraw, ImageFont\n",
    "from moviepy.editor import ImageSequenceClip\n",
    "import numpy as np\n",
    "\n",
    "# Khởi tạo font chữ\n",
    "font = ImageFont.truetype('arial', 500)\n",
    "\n",
    "# Tạo danh sách các chữ cái tiếng Sinhala\n",
    "letters = 'AĂÂBCDĐEÊGHIKLMNOÔƠPQRSTUƯVXY'\n",
    "print(len(letters))\n",
    "letters = letters * 10\n",
    "\n",
    "# Tạo danh sách các khung hình\n",
    "frames = []\n",
    "for letter in letters:\n",
    "    # Tạo ảnh chứa chữ cái\n",
    "    image = Image.new('RGB', (1080, 1920), (0, 0, 0))\n",
    "    draw = ImageDraw.Draw(image)\n",
    "    text_width, text_height = draw.textsize(letter, font=font)\n",
    "    x = (1080 - text_width) / 2\n",
    "    y = (1920 - text_height) / 2\n",
    "    draw.text((x, y), letter, font=font, fill=(255, 255, 255))\n",
    "    # Thêm ảnh vào danh sách khung hình\n",
    "    mat2 = np.array(image).copy()\n",
    "    for i in range(mat.shape[0]):\n",
    "        np.random.shuffle(mat[i, :, :])\n",
    "    frames.append(mat2)\n",
    "\n",
    "# Tạo video từ danh sách khung hình\n",
    "clip = ImageSequenceClip(frames, fps=1)\n",
    "clip.write_videofile('Vietnamese Alphabet.mp4')"
   ]
  },
  {
   "cell_type": "code",
   "execution_count": 21,
   "id": "a6fad9a4",
   "metadata": {},
   "outputs": [
    {
     "name": "stdout",
     "output_type": "stream",
     "text": [
      "22\n",
      "Moviepy - Building video nidun alphabet.mp4.\n",
      "Moviepy - Writing video nidun alphabet.mp4\n",
      "\n"
     ]
    },
    {
     "name": "stderr",
     "output_type": "stream",
     "text": [
      "                                                                                                                       \r"
     ]
    },
    {
     "name": "stdout",
     "output_type": "stream",
     "text": [
      "Moviepy - Done !\n",
      "Moviepy - video ready nidun alphabet.mp4\n"
     ]
    }
   ],
   "source": [
    "from PIL import Image, ImageDraw, ImageFont\n",
    "from moviepy.editor import ImageSequenceClip\n",
    "import numpy as np\n",
    "\n",
    "# Khởi tạo font chữ\n",
    "font = ImageFont.truetype('C:/Users/Dell G7/Documents/Nidun.ttf', 500)\n",
    "\n",
    "# Tạo danh sách các chữ cái tiếng Sinhala\n",
    "letters = 'ABCDEGHIKLMNOPQRSTUVXY'\n",
    "print(len(letters))\n",
    "letters = letters * 10\n",
    "\n",
    "# Tạo danh sách các khung hình\n",
    "frames = []\n",
    "for letter in letters:\n",
    "    # Tạo ảnh chứa chữ cái\n",
    "    image = Image.new('RGB', (1080, 1920), (0, 0, 0))\n",
    "    draw = ImageDraw.Draw(image)\n",
    "    text_width, text_height = draw.textsize(letter, font=font)\n",
    "    x = (1080 - text_width) / 2\n",
    "    y = (1920 - text_height) / 2\n",
    "    draw.text((x, y), letter, font=font, fill=(255, 255, 255))\n",
    "    # Thêm ảnh vào danh sách khung hình\n",
    "    frames.append(np.array(image))\n",
    "\n",
    "# Tạo video từ danh sách khung hình\n",
    "clip = ImageSequenceClip(frames, fps=1)\n",
    "clip.write_videofile('nidun alphabet.mp4')"
   ]
  },
  {
   "cell_type": "code",
   "execution_count": null,
   "id": "c88771f9",
   "metadata": {},
   "outputs": [],
   "source": []
  },
  {
   "cell_type": "code",
   "execution_count": null,
   "id": "71916e56",
   "metadata": {},
   "outputs": [],
   "source": []
  }
 ],
 "metadata": {
  "kernelspec": {
   "display_name": "Python 3 (ipykernel)",
   "language": "python",
   "name": "python3"
  },
  "language_info": {
   "codemirror_mode": {
    "name": "ipython",
    "version": 3
   },
   "file_extension": ".py",
   "mimetype": "text/x-python",
   "name": "python",
   "nbconvert_exporter": "python",
   "pygments_lexer": "ipython3",
   "version": "3.9.12"
  }
 },
 "nbformat": 4,
 "nbformat_minor": 5
}
