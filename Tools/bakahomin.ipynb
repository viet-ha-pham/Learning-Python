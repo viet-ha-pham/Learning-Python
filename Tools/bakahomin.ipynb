{
 "cells": [
  {
   "cell_type": "code",
   "execution_count": 1,
   "id": "3727cfcc",
   "metadata": {},
   "outputs": [],
   "source": [
    "import pickle\n",
    "import ctnx\n",
    "import underthesea\n",
    "\n",
    "\n",
    "def segoholin(word):\n",
    "\n",
    "    # Special case:\n",
    "    if len(word) == 1:\n",
    "        if word == \"a\":\n",
    "            return \"e\"\n",
    "        if word == \"e\":\n",
    "            return \"i\"\n",
    "        if word == \"i\":\n",
    "            return \"o\"\n",
    "        if word == \"o\":\n",
    "            return \"u\"\n",
    "        if word == \"u\":\n",
    "            return \"i\"\n",
    "        return word\n",
    "\n",
    "    vowels = \"aeiouy\"\n",
    "\n",
    "    a = [ c for c in word if c not in vowels]\n",
    "    a.sort()\n",
    "\n",
    "    b = [ c for c in word if c in vowels]\n",
    "    b.sort()\n",
    "\n",
    "    m = min(len(a), len(b))\n",
    "    i = 0\n",
    "    new_word = \"\"\n",
    "\n",
    "    if len(a) >= len(b):\n",
    "        while i < m:\n",
    "            new_word += a[i]\n",
    "            new_word += b[i]\n",
    "            i += 1\n",
    "        if i < len(a) and a[i] in \"mnprst\":\n",
    "            new_word += a[i]\n",
    "    else:\n",
    "        while i < m:\n",
    "            new_word += b[i]\n",
    "            new_word += a[i]\n",
    "            i += 1\n",
    "        if i < len(b):\n",
    "            new_word += b[i]\n",
    "\n",
    "    # Post processing\n",
    "    if new_word == word:\n",
    "        new_word = new_word[::-1]\n",
    "\n",
    "    if new_word and new_word[-1] not in \"mnprst\":\n",
    "            new_word = new_word[:len(new_word) - 1] + \"t\"\n",
    "\n",
    "    return new_word.replace(\"y\",\"i\").replace(\"c\",\"s\")\n",
    "\n",
    "\n",
    "def yrab(word1, word2):\n",
    "    rev_word1 = word1[::-1]\n",
    "    rev_word2 = word2[::-1]\n",
    "\n",
    "    common_index = None\n",
    "    for i in range(len(rev_word2)):\n",
    "        for j in range(len(rev_word1)):\n",
    "            if rev_word2[i] == rev_word1[j]:\n",
    "                common_index = (i, j)\n",
    "\n",
    "    if common_index is None:\n",
    "        return rev_word2 + rev_word1\n",
    "\n",
    "    return rev_word2[:common_index[0]] + rev_word1[common_index[1]:]\n",
    "\n",
    "with open(\"E:/bakahomin/vie_cho_dct_2023.pkl\", \"rb\") as f:\n",
    "        vie_cho_dct = pickle.load(f)\n",
    "        \n",
    "def trans_to_choap(txt):\n",
    "\n",
    "    sp = txt.split()\n",
    "    return \" \".join([ vie_cho_dct[w] if w in vie_cho_dct else w for w in sp]).replace(\"lồn\",\"noòng\").replace(\"khỏe\",\"tãy\")\n",
    "\n",
    "def bahakomin(word):\n",
    "    word1 = word.lower()\n",
    "    word1 = trans_to_choap(word1)\n",
    "    word1 = ctnx.remove_diacritics(word1)\n",
    "    word1 = word1.replace(\" \",\"\")\n",
    "\n",
    "    word2 = word.lower()\n",
    "    word2 = ctnx.remove_diacritics(word2)\n",
    "    word2 = word2.replace(\" \", \"\")\n",
    "\n",
    "    return segoholin(yrab(word1, word2))\n",
    "\n",
    "\n",
    "def bakahomin_sentence(sentence):\n",
    "    return \" \".join( bahakomin(w) for w in underthesea.word_tokenize(sentence) )\n",
    "\n",
    "def has_vowel(w):\n",
    "    return \"a\" in w or \"e\" in w or \"i\" in w or \"o\" in w or \"u\" in w\n",
    "\n",
    "def add_i(w):\n",
    "    return w[0]+\"i\"+w[1:]\n",
    "\n",
    "def bakahomin_sentence2(sentence):\n",
    "    r = bakahomin_sentence(sentence).split()\n",
    "    r2 = [ w if has_vowel(w) else add_i(w) for w in r ]\n",
    "    res = \" \".join(r2)\n",
    "    res = res[0].upper() + res[1:]\n",
    "    return res\n"
   ]
  },
  {
   "cell_type": "code",
   "execution_count": 2,
   "id": "b959c393",
   "metadata": {},
   "outputs": [],
   "source": [
    "def superbakahomin(sentence):\n",
    "    r = bakahomin_sentence2(sentence)\n",
    "    res = \"\"\n",
    "    for c in r:\n",
    "        if c!= \" \":\n",
    "            res+=chr(ord(c)+3333)\n",
    "        else:\n",
    "            res+=\" \"\n",
    "    print(res)"
   ]
  },
  {
   "cell_type": "code",
   "execution_count": 3,
   "id": "2423e457",
   "metadata": {},
   "outputs": [
    {
     "data": {
      "text/plain": [
       "'Git hament /i xit /i not gogun /i sagur bit'"
      ]
     },
     "execution_count": 3,
     "metadata": {},
     "output_type": "execute_result"
    }
   ],
   "source": [
    "bakahomin_sentence2(\"tiếng Hàn / là / một ngôn ngữ / rất khó\")"
   ]
  },
  {
   "cell_type": "code",
   "execution_count": 4,
   "id": "71f52f1c",
   "metadata": {},
   "outputs": [
    {
     "data": {
      "text/plain": [
       "'Dagehon goht danont o dit sehimos net git hament basop'"
      ]
     },
     "execution_count": 4,
     "metadata": {},
     "output_type": "execute_result"
    }
   ],
   "source": [
    "bakahomin_sentence2(\"thế nhưng dần dần tôi cũng học hết tiếng Hàn sơ cấp\")"
   ]
  },
  {
   "cell_type": "code",
   "execution_count": 5,
   "id": "f5bc9226",
   "metadata": {},
   "outputs": [
    {
     "data": {
      "text/plain": [
       "'O gihonuqt geminun degt deretit git igutt daritt sehimos sit manerotovt dit lamunt'"
      ]
     },
     "execution_count": 5,
     "metadata": {},
     "output_type": "execute_result"
    }
   ],
   "source": [
    "bakahomin_sentence2(\"tôi nghĩ mình nên áp dụng triệt để những gì đã học được vào vụ chiều nay\")"
   ]
  },
  {
   "cell_type": "code",
   "execution_count": 6,
   "id": "4aef671d",
   "metadata": {},
   "outputs": [
    {
     "data": {
      "text/plain": [
       "'O hekonus halemopt dot git igutt ni halemopt'"
      ]
     },
     "execution_count": 6,
     "metadata": {},
     "output_type": "execute_result"
    }
   ],
   "source": [
    "bakahomin_sentence2(\"tôi sẽ làm tốt những gì cần làm\")"
   ]
  },
  {
   "cell_type": "code",
   "execution_count": 7,
   "id": "de99a42c",
   "metadata": {},
   "outputs": [
    {
     "data": {
      "text/plain": [
       "'Git lamunt maret novt hanor degohun hanor sadehinon saheht'"
      ]
     },
     "execution_count": 7,
     "metadata": {},
     "output_type": "execute_result"
    }
   ],
   "source": [
    "bakahomin_sentence2(\"tối nay quyết tâm dọn nhà để nhà ổn định hạnh phúc\")"
   ]
  },
  {
   "cell_type": "code",
   "execution_count": 22,
   "id": "7f31596d",
   "metadata": {},
   "outputs": [
    {
     "data": {
      "text/plain": [
       "'Gent agenunt saht'"
      ]
     },
     "execution_count": 22,
     "metadata": {},
     "output_type": "execute_result"
    }
   ],
   "source": [
    "bakahomin_sentence2(\"con yêu chúa\")"
   ]
  },
  {
   "cell_type": "code",
   "execution_count": 31,
   "id": "6753de55",
   "metadata": {},
   "outputs": [
    {
     "name": "stdout",
     "output_type": "stream",
     "text": [
      "Amonust gent hekonus agenunt\n",
      " gent daritt denopt gihonup git hanur abont\n",
      " daritt gun saxt salt git dahenist gent gent daht\n",
      " goht int gent hekonus gigiholunin\n",
      " goht int gent hekonus gigiholunin hehekint hon ast\n",
      "\n"
     ]
    }
   ],
   "source": [
    "poem = \"\"\"Hôm nay con sẽ yêu ,\n",
    "con đã dọn dẹp xong những thứ đa đoan ,\n",
    "đã thử thác loạc những điều khiến con đờ đẫn ,\n",
    "nhưng bây giờ con sẽ nghỉ ngơi ,\n",
    "nhưng bây giờ con sẽ nghỉ ngơi nhiều hơn nữa .\n",
    "\"\"\"\n",
    "print(bakahomin_sentence2(poem).replace(\" ,i\",\"\\n\").replace(\" .i\",\"\\n\").replace(\" \\\"i\",\"\\n\").replace(\" :i\",\"\\n\\n\"))"
   ]
  },
  {
   "cell_type": "code",
   "execution_count": null,
   "id": "0c2b2dc3",
   "metadata": {},
   "outputs": [],
   "source": []
  },
  {
   "cell_type": "code",
   "execution_count": null,
   "id": "a338fb3e",
   "metadata": {},
   "outputs": [],
   "source": []
  },
  {
   "cell_type": "code",
   "execution_count": null,
   "id": "0351d9e2",
   "metadata": {},
   "outputs": [],
   "source": []
  }
 ],
 "metadata": {
  "kernelspec": {
   "display_name": "Python 3 (ipykernel)",
   "language": "python",
   "name": "python3"
  },
  "language_info": {
   "codemirror_mode": {
    "name": "ipython",
    "version": 3
   },
   "file_extension": ".py",
   "mimetype": "text/x-python",
   "name": "python",
   "nbconvert_exporter": "python",
   "pygments_lexer": "ipython3",
   "version": "3.9.12"
  }
 },
 "nbformat": 4,
 "nbformat_minor": 5
}
