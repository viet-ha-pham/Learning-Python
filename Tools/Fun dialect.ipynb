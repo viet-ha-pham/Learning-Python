{
 "cells": [
  {
   "cell_type": "code",
   "execution_count": 1,
   "id": "d71dcc39",
   "metadata": {},
   "outputs": [],
   "source": [
    "def is_vowel(c):\n",
    "    c = c.lower()\n",
    "    vowels = ['a', 'à', 'á', 'ả', 'ã', 'ạ',\n",
    "              'ă', 'ằ', 'ắ', 'ẳ', 'ẵ', 'ặ',\n",
    "              'â', 'ầ', 'ấ', 'ẩ', 'ẫ', 'ậ',\n",
    "              'e', 'è', 'é', 'ẻ', 'ẽ', 'ẹ',\n",
    "              'ê', 'ề', 'ế', 'ể', 'ễ', 'ệ',\n",
    "              'i', 'ì', 'í', 'ỉ', 'ĩ', 'ị',\n",
    "              'y', 'ỳ', 'ý', 'ỷ', 'ỹ', 'ỵ',\n",
    "              'o', 'ò', 'ó', 'ỏ', 'õ', 'ọ',\n",
    "              'ô', 'ồ', 'ố', 'ổ', 'ỗ', 'ộ',\n",
    "              'ơ', 'ờ', 'ớ', 'ở', 'ỡ', 'ợ',\n",
    "              'u', 'ù', 'ú', 'ủ', 'ũ', 'ụ',\n",
    "              'ư', 'ừ', 'ứ', 'ử', 'ữ', 'ự'\n",
    "             ]\n",
    "    \n",
    "    if c in vowels:\n",
    "        return True\n",
    "    \n",
    "    return False"
   ]
  },
  {
   "cell_type": "code",
   "execution_count": 2,
   "id": "33bf10a3",
   "metadata": {},
   "outputs": [
    {
     "data": {
      "text/plain": [
       "True"
      ]
     },
     "execution_count": 2,
     "metadata": {},
     "output_type": "execute_result"
    }
   ],
   "source": [
    "is_vowel('u')"
   ]
  },
  {
   "cell_type": "code",
   "execution_count": 3,
   "id": "8ef8a426",
   "metadata": {},
   "outputs": [
    {
     "data": {
      "text/plain": [
       "False"
      ]
     },
     "execution_count": 3,
     "metadata": {},
     "output_type": "execute_result"
    }
   ],
   "source": [
    "is_vowel('c')"
   ]
  },
  {
   "cell_type": "code",
   "execution_count": 4,
   "id": "150093c1",
   "metadata": {},
   "outputs": [],
   "source": [
    "def split_syllable(w):\n",
    "    initial = \"\"\n",
    "    vowels = \"\"\n",
    "    final = \"\"\n",
    "    \n",
    "    for c in w:\n",
    "        if not is_vowel(c):\n",
    "            if not vowels:\n",
    "                initial += c\n",
    "            else:\n",
    "                final += c\n",
    "        else:\n",
    "            vowels += c\n",
    "            \n",
    "    # Trường hợp đặc biệt\n",
    "    \n",
    "    if initial == \"q\":\n",
    "        initial = \"qu\"\n",
    "    if initial == \"\" and vowels[0] == \"y\":\n",
    "        vowels = vowels[1:]\n",
    "    if initial == \"g\" and (vowels.startswith(\"i\")\n",
    "                           or vowels.startswith(\"ì\")\n",
    "                           or vowels.startswith(\"í\")\n",
    "                           or vowels.startswith(\"ỉ\")\n",
    "                           or vowels.startswith(\"ĩ\")\n",
    "                           or vowels.startswith(\"ị\")):\n",
    "        initial = \"gi\"\n",
    "        if len(vowels) > 1:\n",
    "            vowels = vowels[1:]\n",
    "            \n",
    "    if final == \"\" and len(vowels) > 1:\n",
    "        if vowels[-1] in \"ouiy\":\n",
    "            if vowels[-1] == \"o\":\n",
    "                final = \"u\"\n",
    "            else:\n",
    "                final = vowels[-1]\n",
    "            vowels = vowels[:len(vowels)-1]\n",
    "    return (initial, vowels, final)\n",
    "            "
   ]
  },
  {
   "cell_type": "code",
   "execution_count": 5,
   "id": "ab4911c3",
   "metadata": {},
   "outputs": [
    {
     "data": {
      "text/plain": [
       "('x', 'e', 'm')"
      ]
     },
     "execution_count": 5,
     "metadata": {},
     "output_type": "execute_result"
    }
   ],
   "source": [
    "split_syllable(\"xem\")"
   ]
  },
  {
   "cell_type": "code",
   "execution_count": 6,
   "id": "e794090a",
   "metadata": {},
   "outputs": [
    {
     "data": {
      "text/plain": [
       "('n', 'uô', 'i')"
      ]
     },
     "execution_count": 6,
     "metadata": {},
     "output_type": "execute_result"
    }
   ],
   "source": [
    "split_syllable(\"nuôi\")"
   ]
  },
  {
   "cell_type": "code",
   "execution_count": 7,
   "id": "003ee5a5",
   "metadata": {},
   "outputs": [
    {
     "data": {
      "text/plain": [
       "('ch', 'uyê', 'n')"
      ]
     },
     "execution_count": 7,
     "metadata": {},
     "output_type": "execute_result"
    }
   ],
   "source": [
    "split_syllable(\"chuyên\")"
   ]
  },
  {
   "cell_type": "code",
   "execution_count": 8,
   "id": "a46f711e",
   "metadata": {},
   "outputs": [
    {
     "data": {
      "text/plain": [
       "('gi', 'á', 'ng')"
      ]
     },
     "execution_count": 8,
     "metadata": {},
     "output_type": "execute_result"
    }
   ],
   "source": [
    "split_syllable(\"giáng\")"
   ]
  },
  {
   "cell_type": "code",
   "execution_count": 9,
   "id": "76b7bb9a",
   "metadata": {},
   "outputs": [
    {
     "data": {
      "text/plain": [
       "('gi', 'ì', 'n')"
      ]
     },
     "execution_count": 9,
     "metadata": {},
     "output_type": "execute_result"
    }
   ],
   "source": [
    "split_syllable(\"gìn\")"
   ]
  },
  {
   "cell_type": "code",
   "execution_count": 10,
   "id": "b79092ed",
   "metadata": {},
   "outputs": [
    {
     "data": {
      "text/plain": [
       "('qu', 'uả', '')"
      ]
     },
     "execution_count": 10,
     "metadata": {},
     "output_type": "execute_result"
    }
   ],
   "source": [
    "split_syllable(\"quả\")"
   ]
  },
  {
   "cell_type": "code",
   "execution_count": 11,
   "id": "cc6a432e",
   "metadata": {},
   "outputs": [
    {
     "data": {
      "text/plain": [
       "('qu', 'uyế', 't')"
      ]
     },
     "execution_count": 11,
     "metadata": {},
     "output_type": "execute_result"
    }
   ],
   "source": [
    "split_syllable(\"quyết\")"
   ]
  },
  {
   "cell_type": "code",
   "execution_count": 12,
   "id": "351ff4b0",
   "metadata": {},
   "outputs": [
    {
     "data": {
      "text/plain": [
       "('n', 'ữa', '')"
      ]
     },
     "execution_count": 12,
     "metadata": {},
     "output_type": "execute_result"
    }
   ],
   "source": [
    "split_syllable(\"nữa\")"
   ]
  },
  {
   "cell_type": "code",
   "execution_count": 13,
   "id": "bd94380e",
   "metadata": {},
   "outputs": [],
   "source": [
    "def shift_initial(c):\n",
    "    if c == \"b\" or c == \"ph\":\n",
    "        return \"p\"\n",
    "    \n",
    "    if c == \"ch\" or c == \"tr\" or c == \"d\" or c == \"gi\":\n",
    "        return \"s\"\n",
    "    \n",
    "    if c == \"g\" or c == \"tr\" or c == \"qu\" or c == \"kh\":\n",
    "        return \"c\"\n",
    "    \n",
    "    \n",
    "    if c == \"đ\" or c == \"th\":\n",
    "        return \"t\"\n",
    "    return c"
   ]
  },
  {
   "cell_type": "code",
   "execution_count": 14,
   "id": "706df4d9",
   "metadata": {},
   "outputs": [],
   "source": [
    "def reduce_vowels(vs):\n",
    "    if vs in [\"uyê\", \"uyề\", \"uyế\", \"uyể\", \"uyễ\", \"uyệ\"]:\n",
    "        return vs[-1]\n",
    "    \n",
    "    vs = vs.replace(\"ia\",\"e\")\n",
    "    vs = vs.replace(\"ìa\",\"è\")\n",
    "    vs = vs.replace(\"ía\",\"é\")\n",
    "    vs = vs.replace(\"ỉa\",\"ẻ\")\n",
    "    vs = vs.replace(\"ĩa\",\"ẽ\")\n",
    "    vs = vs.replace(\"ịa\",\"ẹ\")\n",
    "    \n",
    "    vs = vs.replace(\"ưa\",\"ơ\")\n",
    "    vs = vs.replace(\"ừa\",\"ờ\")\n",
    "    vs = vs.replace(\"ứa\",\"ớ\")\n",
    "    vs = vs.replace(\"ửa\",\"ở\")\n",
    "    vs = vs.replace(\"ữa\",\"ỡ\")\n",
    "    vs = vs.replace(\"ựa\",\"ợ\")\n",
    "    \n",
    "    vs = vs.replace(\"oa\",\"a\")\n",
    "    vs = vs.replace(\"òa\",\"à\")\n",
    "    vs = vs.replace(\"óa\",\"á\")\n",
    "    vs = vs.replace(\"ỏa\",\"ả\")\n",
    "    vs = vs.replace(\"õa\",\"ã\")\n",
    "    vs = vs.replace(\"ọa\",\"ạ\")\n",
    "    \n",
    "    vs = vs.replace(\"oe\",\"e\")\n",
    "    vs = vs.replace(\"òe\",\"è\")\n",
    "    vs = vs.replace(\"óe\",\"é\")\n",
    "    vs = vs.replace(\"ỏe\",\"ẻ\")\n",
    "    vs = vs.replace(\"õe\",\"ẽ\")\n",
    "    vs = vs.replace(\"ọe\",\"ẹ\")\n",
    "    \n",
    "    if len(vs) > 1 and (vs[0] == \"i\" \n",
    "                        or vs[0] == \"ì\"\n",
    "                        or vs[0] == \"í\"\n",
    "                        or vs[0] == \"ỉ\"\n",
    "                        or vs[0] == \"ĩ\"\n",
    "                        or vs[0] == \"ị\"\n",
    "                        or vs[0] == \"u\"\n",
    "                        or vs[0] == \"ù\"\n",
    "                        or vs[0] == \"ú\"\n",
    "                        or vs[0] == \"ủ\"\n",
    "                        or vs[0] == \"ũ\"\n",
    "                        or vs[0] == \"ụ\"\n",
    "                        or vs[0] == \"ư\"\n",
    "                        or vs[0] == \"ừ\"\n",
    "                        or vs[0] == \"ứ\"\n",
    "                        or vs[0] == \"ử\"\n",
    "                        or vs[0] == \"ữ\"\n",
    "                        or vs[0] == \"ự\"\n",
    "                        or vs[0] == \"o\"\n",
    "                        or vs[0] == \"ò\"\n",
    "                        or vs[0] == \"ó\"\n",
    "                        or vs[0] == \"ỏ\"\n",
    "                        or vs[0] == \"õ\"\n",
    "                        or vs[0] == \"ọ\"\n",
    "                       ):\n",
    "        \n",
    "        return vs[1:]\n",
    "    return vs"
   ]
  },
  {
   "cell_type": "code",
   "execution_count": 15,
   "id": "dc92693c",
   "metadata": {},
   "outputs": [],
   "source": [
    "def shift_vowels(vs):\n",
    "    vowels = ['a', 'à', 'á', 'ả', 'ã', 'ạ',\n",
    "              'ă', 'ằ', 'ắ', 'ẳ', 'ẵ', 'ặ',\n",
    "              'â', 'ầ', 'ấ', 'ẩ', 'ẫ', 'ậ',\n",
    "              'e', 'è', 'é', 'ẻ', 'ẽ', 'ẹ',\n",
    "              'ê', 'ề', 'ế', 'ể', 'ễ', 'ệ',\n",
    "              'i', 'ì', 'í', 'ỉ', 'ĩ', 'ị',\n",
    "              'y', 'ỳ', 'ý', 'ỷ', 'ỹ', 'ỵ',\n",
    "              'o', 'ò', 'ó', 'ỏ', 'õ', 'ọ',\n",
    "              'ô', 'ồ', 'ố', 'ổ', 'ỗ', 'ộ',\n",
    "              'ơ', 'ờ', 'ớ', 'ở', 'ỡ', 'ợ',\n",
    "              'u', 'ù', 'ú', 'ủ', 'ũ', 'ụ',\n",
    "              'ư', 'ừ', 'ứ', 'ử', 'ữ', 'ự'\n",
    "             ]\n",
    "    result = \"\"\n",
    "    for v in vs:\n",
    "        idx = vowels.index(v)\n",
    "        if (idx // 6 == 0):\n",
    "            result += vowels[idx + 42]\n",
    "        elif (idx // 6 == 1):\n",
    "            result += vowels[idx + 36]\n",
    "        elif (idx // 6 == 2):\n",
    "            result += vowels[idx + 42]\n",
    "        elif (idx // 6 == 3):\n",
    "            result += vowels[idx + 6]\n",
    "        elif (idx // 6 == 4):\n",
    "            result += vowels[idx - 6]\n",
    "        elif (idx // 6 == 5):\n",
    "            result += vowels[idx + 36]\n",
    "        elif (idx // 6 == 6):\n",
    "            result += vowels[idx + 30]\n",
    "        elif (idx // 6 == 7) or (idx // 6 == 9):\n",
    "            result += vowels[idx - 42]\n",
    "        elif (idx // 6 == 8):\n",
    "            result += vowels[idx + 12]\n",
    "        elif (idx // 6 == 10):\n",
    "            result += vowels[idx - 12]\n",
    "        elif (idx // 6 == 11):\n",
    "            result += vowels[idx - 36]\n",
    "        else:\n",
    "            result += v\n",
    "            \n",
    "    return result"
   ]
  },
  {
   "cell_type": "code",
   "execution_count": 16,
   "id": "22a7f8e8",
   "metadata": {},
   "outputs": [],
   "source": [
    "def get_tone(w):\n",
    "    vowels = ['a', 'à', 'á', 'ả', 'ã', 'ạ',\n",
    "              'ă', 'ằ', 'ắ', 'ẳ', 'ẵ', 'ặ',\n",
    "              'â', 'ầ', 'ấ', 'ẩ', 'ẫ', 'ậ',\n",
    "              'e', 'è', 'é', 'ẻ', 'ẽ', 'ẹ',\n",
    "              'ê', 'ề', 'ế', 'ể', 'ễ', 'ệ',\n",
    "              'i', 'ì', 'í', 'ỉ', 'ĩ', 'ị',\n",
    "              'y', 'ỳ', 'ý', 'ỷ', 'ỹ', 'ỵ',\n",
    "              'o', 'ò', 'ó', 'ỏ', 'õ', 'ọ',\n",
    "              'ô', 'ồ', 'ố', 'ổ', 'ỗ', 'ộ',\n",
    "              'ơ', 'ờ', 'ớ', 'ở', 'ỡ', 'ợ',\n",
    "              'u', 'ù', 'ú', 'ủ', 'ũ', 'ụ',\n",
    "              'ư', 'ừ', 'ứ', 'ử', 'ữ', 'ự'\n",
    "             ]\n",
    "    \n",
    "    for c in w:\n",
    "        if c in vowels:\n",
    "            return vowels.index(c) % 6"
   ]
  },
  {
   "cell_type": "code",
   "execution_count": 17,
   "id": "874d3cd5",
   "metadata": {},
   "outputs": [
    {
     "data": {
      "text/plain": [
       "5"
      ]
     },
     "execution_count": 17,
     "metadata": {},
     "output_type": "execute_result"
    }
   ],
   "source": [
    "get_tone(\"động\")"
   ]
  },
  {
   "cell_type": "code",
   "execution_count": 18,
   "id": "29cdcb32",
   "metadata": {},
   "outputs": [],
   "source": [
    "def shift_tone(w):\n",
    "    result = \"\"\n",
    "    vowels = ['a', 'à', 'á', 'ả', 'ã', 'ạ',\n",
    "              'ă', 'ằ', 'ắ', 'ẳ', 'ẵ', 'ặ',\n",
    "              'â', 'ầ', 'ấ', 'ẩ', 'ẫ', 'ậ',\n",
    "              'e', 'è', 'é', 'ẻ', 'ẽ', 'ẹ',\n",
    "              'ê', 'ề', 'ế', 'ể', 'ễ', 'ệ',\n",
    "              'i', 'ì', 'í', 'ỉ', 'ĩ', 'ị',\n",
    "              'y', 'ỳ', 'ý', 'ỷ', 'ỹ', 'ỵ',\n",
    "              'o', 'ò', 'ó', 'ỏ', 'õ', 'ọ',\n",
    "              'ô', 'ồ', 'ố', 'ổ', 'ỗ', 'ộ',\n",
    "              'ơ', 'ờ', 'ớ', 'ở', 'ỡ', 'ợ',\n",
    "              'u', 'ù', 'ú', 'ủ', 'ũ', 'ụ',\n",
    "              'ư', 'ừ', 'ứ', 'ử', 'ữ', 'ự'\n",
    "             ]\n",
    "    flag = False\n",
    "    for c in w:\n",
    "        if c in vowels:\n",
    "            idx = vowels.index(c)\n",
    "            tone = idx % 6\n",
    "            if (tone == 0):\n",
    "                if not flag:\n",
    "                    result += vowels[idx + 1]\n",
    "                    flag = True\n",
    "                else:\n",
    "                    result += c\n",
    "            elif (tone == 1):\n",
    "                result += vowels[idx + 4]\n",
    "                flag = True\n",
    "            elif (tone == 3):\n",
    "                result += vowels[idx - 1]\n",
    "                flag = True\n",
    "            elif (tone == 4):\n",
    "                result += vowels[idx - 2]\n",
    "                flag = True\n",
    "            else:\n",
    "                result += c\n",
    "                flag = True\n",
    "        else:\n",
    "            result += c\n",
    "    return result"
   ]
  },
  {
   "cell_type": "code",
   "execution_count": 19,
   "id": "23e0da84",
   "metadata": {},
   "outputs": [],
   "source": [
    "def dialect(w):\n",
    "    (initial, vowels, final) = split_syllable(w)\n",
    "    result = shift_initial(initial) + shift_tone(shift_vowels(reduce_vowels(vowels))) + final\n",
    "    \n",
    "    (initial, vowels, final) = split_syllable(result)\n",
    "    if final == \"nh\" and vowels not in \"iìíỉĩị\":\n",
    "        final = \"ng\"\n",
    "    elif final == \"ng\" and vowels in \"iìíỉĩị\":\n",
    "        final = \"nh\"\n",
    "    result = \"\".join((initial, vowels, final))\n",
    "    \n",
    "    result = result.replace(\"òng\",\"oòng\")\n",
    "    result = result.replace(\"óng\",\"oóng\")\n",
    "    result = result.replace(\"ọng\",\"oọng\")\n",
    "    \n",
    "    result = result.replace(\"óc\",\"oóc\")\n",
    "    result = result.replace(\"ọc\",\"oọc\")\n",
    "    \n",
    "    result = result.replace(\"oóch\",\"oóc\")\n",
    "    result = result.replace(\"oọch\",\"oọc\")\n",
    "    \n",
    "    result = result.replace(\"òy\",\"òi\")\n",
    "    result = result.replace(\"óy\",\"ói\")\n",
    "    result = result.replace(\"ọy\",\"ọi\")\n",
    "    \n",
    "    result = result.replace(\"ồy\",\"ồi\")\n",
    "    result = result.replace(\"ốy\",\"ối\")\n",
    "    result = result.replace(\"ộy\",\"ội\")\n",
    "    \n",
    "    result = result.replace(\"ờy\",\"ời\")\n",
    "    result = result.replace(\"ớy\",\"ới\")\n",
    "    result = result.replace(\"ợy\",\"ợi\")\n",
    "    \n",
    "    result = result.replace(\"ầi\",\"ầy\")\n",
    "    result = result.replace(\"ấi\",\"ấy\")\n",
    "    result = result.replace(\"ậi\",\"ậy\")\n",
    "    \n",
    "    result = result.replace(\"èu\",\"èo\")\n",
    "    result = result.replace(\"éu\",\"éo\")\n",
    "    result = result.replace(\"ẹu\",\"ẹo\")\n",
    "    \n",
    "    result = result.replace(\"òu\",\"àu\")\n",
    "    result = result.replace(\"óu\",\"áu\")\n",
    "    result = result.replace(\"ọu\",\"ạu\")\n",
    "    \n",
    "    result = result.replace(\"ngì\",\"nghì\")\n",
    "    result = result.replace(\"ngí\",\"nghí\")\n",
    "    result = result.replace(\"ngị\",\"nghị\")\n",
    "    \n",
    "    result = result.replace(\"nghừ\",\"ngừ\")\n",
    "    result = result.replace(\"nghứ\",\"ngứ\")\n",
    "    result = result.replace(\"nghự\",\"ngự\")\n",
    "    \n",
    "    result = result.replace(\"íc\",\"ích\")\n",
    "    result = result.replace(\"ịc\",\"ịch\")\n",
    "    \n",
    "    result = result.replace(\"cì\",\"kì\")\n",
    "    result = result.replace(\"cí\",\"kí\")\n",
    "    result = result.replace(\"cị\",\"kị\")\n",
    "    \n",
    "    result = result.replace(\"kừ\",\"cừ\")\n",
    "    result = result.replace(\"kứ\",\"cứ\")\n",
    "    result = result.replace(\"kự\",\"cự\")\n",
    "    \n",
    "    result = result.replace(\"ồu\", \"ầu\")\n",
    "    result = result.replace(\"ốu\", \"ấu\")\n",
    "    result = result.replace(\"ộu\", \"ậu\")\n",
    "    \n",
    "    result = result.replace(\"cè\", \"kè\")\n",
    "    result = result.replace(\"cé\", \"ké\")\n",
    "    result = result.replace(\"cẹ\", \"kẹ\")\n",
    "    \n",
    "    result = result.replace(\"cề\", \"kề\")\n",
    "    result = result.replace(\"cế\", \"kế\")\n",
    "    result = result.replace(\"cệ\", \"kệ\")\n",
    "    \n",
    "    \n",
    "    if result[-1] == \"ầ\":\n",
    "        result = result[:len(result) - 1] + \"à\"\n",
    "    elif result[-1] == \"ấ\":\n",
    "        result = result[:len(result) - 1] + \"á\"\n",
    "    elif result[-1] == \"ậ\":\n",
    "        result = result[:len(result) - 1] + \"ạ\"\n",
    "        \n",
    "    return result"
   ]
  },
  {
   "cell_type": "code",
   "execution_count": 20,
   "id": "6fd58462",
   "metadata": {},
   "outputs": [],
   "source": [
    "txt = \"hôm nay tôi rất vui vì đã làm được nhiều việc nhưng hôm qua thật sự lung tung phức tạp điên đảo\""
   ]
  },
  {
   "cell_type": "code",
   "execution_count": 21,
   "id": "72ca5b93",
   "metadata": {},
   "outputs": [
    {
     "data": {
      "text/plain": [
       "'hùm nòi tùi rớt vồi vự tó lọm tậc nhẹo vẹc nhình hùm cò tợt sị lồng tồng pích tọp tèn táu'"
      ]
     },
     "execution_count": 21,
     "metadata": {},
     "output_type": "execute_result"
    }
   ],
   "source": [
    "\" \".join([dialect(w) for w in txt.split()])"
   ]
  },
  {
   "cell_type": "code",
   "execution_count": 22,
   "id": "93a91e75",
   "metadata": {},
   "outputs": [],
   "source": [
    "txt = \"lập trình là một việc rất thú vị nhưng không dễ dàng cho nên cần phải nuôi dưỡng niềm đam mê\""
   ]
  },
  {
   "cell_type": "code",
   "execution_count": 23,
   "id": "0ac51f7c",
   "metadata": {},
   "outputs": [
    {
     "data": {
      "text/plain": [
       "'lợp sựng lọ mụt vẹc rớt tố vự nhình cùng sé soọng sà nèn cợn pói nùi sấng nẹm tòm mè'"
      ]
     },
     "execution_count": 23,
     "metadata": {},
     "output_type": "execute_result"
    }
   ],
   "source": [
    "\" \".join([dialect(w) for w in txt.split()])"
   ]
  },
  {
   "cell_type": "code",
   "execution_count": 24,
   "id": "4ace559d",
   "metadata": {},
   "outputs": [],
   "source": [
    "txt = \"luôn luôn phải cố gắng hơn trong mỗi ngày và phải biết chắt chiu\""
   ]
  },
  {
   "cell_type": "code",
   "execution_count": 25,
   "id": "2a1f1e49",
   "metadata": {},
   "outputs": [
    {
     "data": {
      "text/plain": [
       "'lùn lùn pói cú coóng hần sàng múi ngọi vọ pói pét sót sừu'"
      ]
     },
     "execution_count": 25,
     "metadata": {},
     "output_type": "execute_result"
    }
   ],
   "source": [
    "\" \".join([dialect(w) for w in txt.split()])"
   ]
  },
  {
   "cell_type": "code",
   "execution_count": 26,
   "id": "5c78743e",
   "metadata": {},
   "outputs": [],
   "source": [
    "txt = \"biết đâu đây đời bời suốt dưới nữa khó quá xin\""
   ]
  },
  {
   "cell_type": "code",
   "execution_count": 27,
   "id": "2a726d96",
   "metadata": {},
   "outputs": [
    {
     "data": {
      "text/plain": [
       "'pét tờu tời tậy pậy sút sấy ná cá có xừn'"
      ]
     },
     "execution_count": 27,
     "metadata": {},
     "output_type": "execute_result"
    }
   ],
   "source": [
    "\" \".join([dialect(w) for w in txt.split()])"
   ]
  },
  {
   "cell_type": "code",
   "execution_count": 28,
   "id": "d48c9e02",
   "metadata": {},
   "outputs": [],
   "source": [
    "txt = \"biết đâu đây đời bời suốt dưới nữa khó quá xin\""
   ]
  },
  {
   "cell_type": "code",
   "execution_count": 29,
   "id": "da9b56fe",
   "metadata": {},
   "outputs": [],
   "source": [
    "def trans(txt):\n",
    "    return \" \".join([dialect(w) for w in txt.split()])"
   ]
  },
  {
   "cell_type": "code",
   "execution_count": 30,
   "id": "e2086781",
   "metadata": {},
   "outputs": [],
   "source": [
    "def make_verse(input_string):\n",
    "    # Tách chuỗi thành danh sách các từ\n",
    "    input_string = trans(input_string)\n",
    "    words = input_string.split()\n",
    "\n",
    "    # Kiểm tra đủ 18 từ\n",
    "    if len(words) != 18:\n",
    "        return \"Chuỗi không đủ 18 từ.\"\n",
    "\n",
    "    # Kiểm tra các điều kiện\n",
    "    if (words[5] == words[3] and  # Từ thứ 6 trùng với từ thứ 4\n",
    "        words[9] == words[7] and words[15] == words[7] and  # Từ thứ 10 và 16 trùng với từ thứ 8\n",
    "        words[13] == words[11] and words[17] == words[11]):  # Từ 14 và 18 trùng với từ thứ 12\n",
    "\n",
    "        # Ngắt chuỗi thành 4 dòng theo yêu cầu\n",
    "        line1 = \" \".join(words[:4])\n",
    "        line2 = \" \".join(words[4:8])\n",
    "        line3 = \" \".join(words[8:12])\n",
    "        line4 = \" \".join(words[12:])\n",
    "\n",
    "        # Trả về chuỗi đã ngắt dòng4\n",
    "        result = f\"{line1.capitalize()}\\n{line2.capitalize()}\\n{line3.capitalize()}\\n{line4.capitalize()}\"\n",
    "        print(result)\n",
    "        with open(\"Cò Sàu Mừng.txt\", \"a\", encoding=\"utf-8\") as f:\n",
    "            f.write(result+\"\\n\\n\")\n",
    "        return result\n",
    "    else:\n",
    "        print(input_string)\n",
    "        return input_string\n",
    "\n"
   ]
  },
  {
   "cell_type": "code",
   "execution_count": 31,
   "id": "ad117849",
   "metadata": {},
   "outputs": [
    {
     "name": "stdout",
     "output_type": "stream",
     "text": [
      "Vét ứt nhớt mậy\n",
      "Cói mậy tọn té\n",
      "Lọm té sà vồi\n",
      "Cá vồi cống té sốt vồi\n"
     ]
    },
    {
     "data": {
      "text/plain": [
       "'Vét ứt nhớt mậy\\nCói mậy tọn té\\nLọm té sà vồi\\nCá vồi cống té sốt vồi'"
      ]
     },
     "execution_count": 31,
     "metadata": {},
     "output_type": "execute_result"
    }
   ],
   "source": [
    "txt = \"\"\"\n",
    "viết ít nhất mười\n",
    "cái mười đoạn để\n",
    "làm để cho vui\n",
    "có vui cũng để chút vui\n",
    "\"\"\"\n",
    "make_verse(txt)"
   ]
  },
  {
   "cell_type": "code",
   "execution_count": 32,
   "id": "c1570c01",
   "metadata": {},
   "outputs": [
    {
     "data": {
      "text/plain": [
       "'ngó tục tì'"
      ]
     },
     "execution_count": 32,
     "metadata": {},
     "output_type": "execute_result"
    }
   ],
   "source": [
    "txt = \"\"\"ngã độc thư\"\"\"\n",
    "trans(txt)"
   ]
  },
  {
   "cell_type": "code",
   "execution_count": 33,
   "id": "99fbb18c",
   "metadata": {},
   "outputs": [],
   "source": [
    "def trans_list(texts):\n",
    "    return [ trans(txt) for txt in texts ]"
   ]
  },
  {
   "cell_type": "code",
   "execution_count": 34,
   "id": "bb77d18f",
   "metadata": {},
   "outputs": [],
   "source": [
    "words = [\"ngã\", \"nhĩ\", \"nhĩ hảo\", \"ngã thực phạn\",\"ngã ẩm thủy\",\"ngã hảo\",\"đa tạ\",\"ngã học\",\"ngã độc thư\",\"ngã tưởng thực\"]"
   ]
  },
  {
   "cell_type": "code",
   "execution_count": 35,
   "id": "d43a12fa",
   "metadata": {},
   "outputs": [
    {
     "data": {
      "text/plain": [
       "['ngó',\n",
       " 'nhứ',\n",
       " 'nhứ háu',\n",
       " 'ngó tịch pọn',\n",
       " 'ngó ớm tối',\n",
       " 'ngó háu',\n",
       " 'tò tọ',\n",
       " 'ngó hạc',\n",
       " 'ngó tục tì',\n",
       " 'ngó tấng tịch']"
      ]
     },
     "execution_count": 35,
     "metadata": {},
     "output_type": "execute_result"
    }
   ],
   "source": [
    "trans_list(words)"
   ]
  }
 ],
 "metadata": {
  "kernelspec": {
   "display_name": "Python 3 (ipykernel)",
   "language": "python",
   "name": "python3"
  },
  "language_info": {
   "codemirror_mode": {
    "name": "ipython",
    "version": 3
   },
   "file_extension": ".py",
   "mimetype": "text/x-python",
   "name": "python",
   "nbconvert_exporter": "python",
   "pygments_lexer": "ipython3",
   "version": "3.9.12"
  }
 },
 "nbformat": 4,
 "nbformat_minor": 5
}
