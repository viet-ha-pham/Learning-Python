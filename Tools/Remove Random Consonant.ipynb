{
 "cells": [
  {
   "cell_type": "code",
   "execution_count": 2,
   "id": "2811f445",
   "metadata": {},
   "outputs": [
    {
     "name": "stdout",
     "output_type": "stream",
     "text": [
      "Văn bản sau khi xử lý:\n",
      "ôm na à gày hứ ăm ai à tứ áu co ằm hả ơ\n"
     ]
    }
   ],
   "source": [
    "import random\n",
    "import string\n",
    "\n",
    "def remove_random_consonant(text):\n",
    "    # Danh sách các phụ âm\n",
    "    vowels = \"aeiouAEIOU\"\n",
    "    consonants = set(string.ascii_letters) - set(vowels)\n",
    "\n",
    "    def process_word(word):\n",
    "        # Lọc các phụ âm trong từ\n",
    "        consonant_indices = [i for i, char in enumerate(word) if char in consonants]\n",
    "        \n",
    "        if consonant_indices:\n",
    "            # Chọn ngẫu nhiên một phụ âm để xóa\n",
    "            index_to_remove = random.choice(consonant_indices)\n",
    "            word = word[:index_to_remove] + word[index_to_remove + 1:]\n",
    "        return word\n",
    "\n",
    "    # Tách văn bản thành các từ và xử lý từng từ\n",
    "    words = text.split()\n",
    "    processed_words = [process_word(word) for word in words]\n",
    "\n",
    "    # Ghép lại thành văn bản\n",
    "    return ' '.join(processed_words)\n",
    "\n",
    "\n",
    "input_text = \"\"\"\n",
    "hôm nay là ngày thứ năm\n",
    "mai là thứ sáu con tằm nhả tơ\n",
    "\"\"\"\n",
    "result = remove_random_consonant(input_text)\n",
    "\n",
    "print(\"Văn bản sau khi xử lý:\")\n",
    "print(result)\n"
   ]
  },
  {
   "cell_type": "code",
   "execution_count": null,
   "id": "a0d14199",
   "metadata": {},
   "outputs": [],
   "source": []
  }
 ],
 "metadata": {
  "kernelspec": {
   "display_name": "Python 3 (ipykernel)",
   "language": "python",
   "name": "python3"
  },
  "language_info": {
   "codemirror_mode": {
    "name": "ipython",
    "version": 3
   },
   "file_extension": ".py",
   "mimetype": "text/x-python",
   "name": "python",
   "nbconvert_exporter": "python",
   "pygments_lexer": "ipython3",
   "version": "3.9.12"
  }
 },
 "nbformat": 4,
 "nbformat_minor": 5
}
