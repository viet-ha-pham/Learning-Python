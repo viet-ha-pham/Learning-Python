{
 "cells": [
  {
   "cell_type": "code",
   "execution_count": 1,
   "id": "6c08e2f3",
   "metadata": {},
   "outputs": [],
   "source": [
    "from rdflib import Graph, Namespace\n",
    "\n",
    "def load_ontology(file_path):\n",
    "    g = Graph()\n",
    "    g.parse(file_path, format=\"turtle\")\n",
    "    return g\n",
    "\n",
    "def extract_instructions(g, genre, style, tone):\n",
    "    ns = Namespace(\"http://example.org/writing-ontology#\")\n",
    "    \n",
    "    def get_description(entity):\n",
    "        qres = g.query(\n",
    "            \"\"\"\n",
    "            SELECT ?comment WHERE {\n",
    "                ?entity rdfs:comment ?comment .\n",
    "            } LIMIT 1\n",
    "            \"\"\",\n",
    "            initNs={'rdfs': Namespace(\"http://www.w3.org/2000/01/rdf-schema#\")},\n",
    "            initBindings={'entity': ns[entity]}\n",
    "        )\n",
    "        \n",
    "        for row in qres:\n",
    "            return str(row.comment)\n",
    "    \n",
    "    genre_desc = get_description(genre) or \"\"\n",
    "    style_desc = get_description(style) or \"\"\n",
    "    tone_desc = get_description(tone) or \"\"\n",
    "    \n",
    "    return f\"\"\"\n",
    "    Write a {genre.replace('_', ' ').lower()} with the following attributes:\n",
    "    - Style: {style.replace('_', ' ').lower()} ({style_desc})\n",
    "    - Tone: {tone.replace('_', ' ').lower()} ({tone_desc})\n",
    "    \"\"\".strip()"
   ]
  },
  {
   "cell_type": "code",
   "execution_count": 2,
   "id": "4221ce3d",
   "metadata": {},
   "outputs": [
    {
     "name": "stdout",
     "output_type": "stream",
     "text": [
      "Write a essay with the following attributes:\n",
      "    - Style: formal (Highly structured and professional tone.)\n",
      "    - Tone: serious (Formal and weighty tone.)\n"
     ]
    }
   ],
   "source": [
    "ontology_file = \"writing_styles.ttl\"  # Đổi tên file thành đúng tên ontology của bạn\n",
    "g = load_ontology(ontology_file)\n",
    "    \n",
    "genre = \"Essay\"\n",
    "style = \"Formal\"\n",
    "tone = \"Serious\"\n",
    "    \n",
    "prompt = extract_instructions(g, genre, style, tone)\n",
    "print(prompt)"
   ]
  },
  {
   "cell_type": "code",
   "execution_count": 3,
   "id": "6770ddc2",
   "metadata": {},
   "outputs": [
    {
     "name": "stdout",
     "output_type": "stream",
     "text": [
      "Write a essay with the following attributes:\n",
      "    - Style: informal (Casual and conversational tone.)\n",
      "    - Tone: humorous (Playful and entertaining sentiment.)\n"
     ]
    }
   ],
   "source": [
    "genre = \"Essay\"\n",
    "style = \"Informal\"\n",
    "tone = \"Humorous\"\n",
    "    \n",
    "prompt = extract_instructions(g, genre, style, tone)\n",
    "print(prompt)"
   ]
  }
 ],
 "metadata": {
  "kernelspec": {
   "display_name": "Python 3 (ipykernel)",
   "language": "python",
   "name": "python3"
  },
  "language_info": {
   "codemirror_mode": {
    "name": "ipython",
    "version": 3
   },
   "file_extension": ".py",
   "mimetype": "text/x-python",
   "name": "python",
   "nbconvert_exporter": "python",
   "pygments_lexer": "ipython3",
   "version": "3.9.12"
  }
 },
 "nbformat": 4,
 "nbformat_minor": 5
}
