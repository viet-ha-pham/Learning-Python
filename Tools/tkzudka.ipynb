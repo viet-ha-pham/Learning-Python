{
 "cells": [
  {
   "cell_type": "code",
   "execution_count": 1,
   "id": "d5d58993",
   "metadata": {},
   "outputs": [],
   "source": [
    "def has_vowel(w):\n",
    "    return \"a\" in w or \"e\" in w or \"i\" in w or \"o\" in w or \"u\" in w or \"ä\" in w or \"ö\" in w or \"ü\" in w\n",
    "\n",
    "def add_y_i(w):\n",
    "    return w[0]+\"y\"+w[1:]+\"i\""
   ]
  },
  {
   "cell_type": "code",
   "execution_count": 2,
   "id": "b35871bb",
   "metadata": {},
   "outputs": [],
   "source": [
    "def telex_to_tkzudka(s):\n",
    "    mytable = str.maketrans(\"abcdefghijklmnopqrstuvwxyz\", \"kmuauuuihhvtszononnlddevln\")\n",
    "    s = s.translate(mytable)\n",
    "    s = s.replace(\"aa\",\"e\")\n",
    "    s = s.replace(\"oo\",\"ü\")\n",
    "    s = s.replace(\"ee\",\"y\")\n",
    "    s = s.replace(\"ii\",\"ö\")\n",
    "    s = s.replace(\"uu\",\"ä\")\n",
    "    \n",
    "    if not has_vowel(s):\n",
    "        s = add_y_i(s)\n",
    "        \n",
    "    if s.startswith(\"iu\"):\n",
    "        s = \"yu\"+ s[2:]\n",
    "        \n",
    "    if s.startswith(\"iü\"):\n",
    "        s = \"yu\"+ s[2:]\n",
    "        \n",
    "    if s.startswith(\"ia\"):\n",
    "        s = \"ya\"+ s[2:]\n",
    "        \n",
    "    if s.startswith(\"iä\"):\n",
    "        s = \"ya\"+ s[2:]\n",
    "        \n",
    "    if s.startswith(\"io\"):\n",
    "        s = \"yo\"+ s[2:]\n",
    "        \n",
    "    if s.startswith(\"iö\"):\n",
    "        s = \"yo\"+ s[2:]\n",
    "        \n",
    "    return s"
   ]
  },
  {
   "cell_type": "code",
   "execution_count": 9,
   "id": "a52a3811",
   "metadata": {},
   "outputs": [],
   "source": [
    "def trans_to_tkzudka(txt):\n",
    "    txt = ctnx.remove_diacritics(txt)\n",
    "    sp = txt.split()\n",
    "    return \" \".join([ telex_to_tkzudka(w) for w in sp])"
   ]
  },
  {
   "cell_type": "code",
   "execution_count": 61,
   "id": "5aa0644a",
   "metadata": {},
   "outputs": [
    {
     "name": "stdout",
     "output_type": "stream",
     "text": [
      "zidezuv ehädu zihädu zudeoehu lideoezä ikl ddeoezun skeun \n",
      " zidezuv sühv odkz lykksi viüzu ekzun odkz lykksi \n",
      " lykklni ukn vihäzn lykksi lynhni aklu ekeuh \n",
      " dku vihäzn uio nydli zuihv viüzu liüzu \n",
      " mdüzu zukl zidezuv liden ddeoezun skeun lkksu lideoezä \n",
      " lyki nuv likln zihädu yoez zide vikh zikzv \n",
      " ekkdu oun viüz lndeoeun lhäz ukkzu liüzu liokzun \n",
      " dku lideun lhzin ukkzu zidezuv tdun lhzih zikzu\n"
     ]
    }
   ],
   "source": [
    "print(trans_to_tkzudka(\"\"\"nhuwngx ddieeuf nhieeuf nguwowif thuwowngf hay vuwowngs mawcs -\n",
    "nhuwngx mooix quan taam khoong ddangs quan taam -\n",
    "taats car khieens taam tris dayf ddawcj -\n",
    "vaf khieens cho suy nghix khoong thoong -\n",
    "\n",
    "buoong ngay nhuwngx thuws vuwowngs mawcs taamf thuwowngf -\n",
    "ta sex thays nhieeuf hown nhuw khai nhanx -\n",
    "ddaauf ocs khoon truwowcs tieen caanf thoong thoangs -\n",
    "vaf thuwcs tinhr caanf nhuwngx lucs tinhj nhanf\n",
    "\"\"\").replace(\"-yi\",\"\\n\"))"
   ]
  },
  {
   "cell_type": "code",
   "execution_count": null,
   "id": "5000ab37",
   "metadata": {},
   "outputs": [],
   "source": []
  }
 ],
 "metadata": {
  "kernelspec": {
   "display_name": "Python 3 (ipykernel)",
   "language": "python",
   "name": "python3"
  },
  "language_info": {
   "codemirror_mode": {
    "name": "ipython",
    "version": 3
   },
   "file_extension": ".py",
   "mimetype": "text/x-python",
   "name": "python",
   "nbconvert_exporter": "python",
   "pygments_lexer": "ipython3",
   "version": "3.9.12"
  }
 },
 "nbformat": 4,
 "nbformat_minor": 5
}
