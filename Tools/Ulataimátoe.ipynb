{
 "cells": [
  {
   "cell_type": "code",
   "execution_count": 2,
   "id": "5e34caee",
   "metadata": {},
   "outputs": [],
   "source": [
    "def dial(w):\n",
    "    w = w.lower()\n",
    "    w = w[0] + w[1:].replace(\"y\",\"i\")\n",
    "    if w == \"i\":\n",
    "        w = \"y\"\n",
    "        \n",
    "    current = \"\"\n",
    "    vowel_acc = 0\n",
    "    consonant_acc = 0\n",
    "    for i in range(len(w)):\n",
    "        if i > 0 and w[i] == w[i-1]:\n",
    "            continue\n",
    "        c = w[i]\n",
    "        if len(w) > 1 and c in \"aeiou\":\n",
    "            if vowel_acc < 2:\n",
    "                c2 = c\n",
    "                vowel_acc += 1\n",
    "            else:\n",
    "                continue\n",
    "        else:\n",
    "            if consonant_acc == 4:\n",
    "                break\n",
    "            consonant_acc += 1\n",
    "            if (i+1) % 3 == 1:\n",
    "                c2 = c + \"o\"\n",
    "                vowel_acc = 1\n",
    "            else:\n",
    "                c2 = c + \"a\"\n",
    "                vowel_acc = 1\n",
    "            if c == \"w\":\n",
    "                vowel_acc += 1\n",
    "        current += c2\n",
    "    \n",
    "    current = current.replace(\"aa\",\"á\")\n",
    "    current = current.replace(\"ee\",\"é\")\n",
    "    current = current.replace(\"ii\",\"í\")\n",
    "    current = current.replace(\"oo\",\"ó\")\n",
    "    current = current.replace(\"uu\",\"ú\")\n",
    "    current = current[0] + current[1:].replace(\"h\",\"j\")\n",
    "    current = current.replace(\"x\",\"k\")\n",
    "    current = current.replace(\"c\",\"k\")\n",
    "    current = current.replace(\"q\",\"k\")\n",
    "    \n",
    "    return current"
   ]
  },
  {
   "cell_type": "code",
   "execution_count": 3,
   "id": "3d4e2831",
   "metadata": {},
   "outputs": [],
   "source": [
    "def dial_trans_line(line):\n",
    "    words = line.split()\n",
    "    return \" \".join([dial(w) for w in words])"
   ]
  },
  {
   "cell_type": "code",
   "execution_count": 4,
   "id": "e5c58cc7",
   "metadata": {},
   "outputs": [],
   "source": [
    "def dial_trans(txt):\n",
    "    lines = txt.split(\"\\n\")\n",
    "    return \"\\n\".join([dial_trans_line(l) for l in lines])"
   ]
  },
  {
   "cell_type": "code",
   "execution_count": 19,
   "id": "2caff0be",
   "metadata": {},
   "outputs": [
    {
     "name": "stdout",
     "output_type": "stream",
     "text": [
      "yo wola koraetae ata loesota 3o moinado moapaso evaeroi doa\n"
     ]
    }
   ],
   "source": [
    "txt = \"\"\"I will create at least 3 mind maps every day\"\"\"\n",
    "print(dial_trans(txt))"
   ]
  },
  {
   "cell_type": "code",
   "execution_count": null,
   "id": "5a5aae39",
   "metadata": {},
   "outputs": [],
   "source": []
  },
  {
   "cell_type": "code",
   "execution_count": null,
   "id": "b0642759",
   "metadata": {},
   "outputs": [],
   "source": []
  }
 ],
 "metadata": {
  "kernelspec": {
   "display_name": "Python 3 (ipykernel)",
   "language": "python",
   "name": "python3"
  },
  "language_info": {
   "codemirror_mode": {
    "name": "ipython",
    "version": 3
   },
   "file_extension": ".py",
   "mimetype": "text/x-python",
   "name": "python",
   "nbconvert_exporter": "python",
   "pygments_lexer": "ipython3",
   "version": "3.9.12"
  }
 },
 "nbformat": 4,
 "nbformat_minor": 5
}
