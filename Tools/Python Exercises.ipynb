{
 "cells": [
  {
   "cell_type": "code",
   "execution_count": 1,
   "id": "ce49d8c1",
   "metadata": {},
   "outputs": [],
   "source": [
    "import nbformat as nbf\n",
    "\n",
    "# Danh sách câu hỏi\n",
    "questions = [\n",
    "    \"1. Viết một hàm tính tổng hai số a và b.\",\n",
    "    \"2. Viết một hàm kiểm tra số nguyên tố.\",\n",
    "    \"3. Viết chương trình in ra dãy Fibonacci với n phần tử.\",\n",
    "    \"4. Viết một hàm nhận vào danh sách số nguyên và trả về danh sách đã sắp xếp tăng dần.\",\n",
    "    \"5. Viết một chương trình đọc dữ liệu từ tệp 'data.txt' và in nội dung ra màn hình.\"\n",
    "]\n",
    "\n",
    "# Tạo một notebook mới\n",
    "nb = nbf.v4.new_notebook()\n",
    "\n",
    "# Thêm phần tiêu đề\n",
    "nb.cells.append(nbf.v4.new_markdown_cell(\"# Bài tập lập trình Python\\nHãy viết code vào các ô bên dưới.\"))\n",
    "\n",
    "# Thêm các câu hỏi vào notebook\n",
    "for question in questions:\n",
    "    nb.cells.append(nbf.v4.new_markdown_cell(f\"### {question}\"))\n",
    "    nb.cells.append(nbf.v4.new_code_cell(\"\"))  # Ô trống để học sinh làm bài\n",
    "\n",
    "# Lưu notebook thành tệp .ipynb\n",
    "with open(\"D:/bai_tap_lap_trinh.ipynb\", \"w\", encoding=\"utf-8\") as f:\n",
    "    nbf.write(nb, f)\n"
   ]
  },
  {
   "cell_type": "code",
   "execution_count": null,
   "id": "b3a5b612",
   "metadata": {},
   "outputs": [],
   "source": []
  }
 ],
 "metadata": {
  "kernelspec": {
   "display_name": "Python 3 (ipykernel)",
   "language": "python",
   "name": "python3"
  },
  "language_info": {
   "codemirror_mode": {
    "name": "ipython",
    "version": 3
   },
   "file_extension": ".py",
   "mimetype": "text/x-python",
   "name": "python",
   "nbconvert_exporter": "python",
   "pygments_lexer": "ipython3",
   "version": "3.9.12"
  }
 },
 "nbformat": 4,
 "nbformat_minor": 5
}
