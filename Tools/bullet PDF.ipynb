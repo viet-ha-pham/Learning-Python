{
 "cells": [
  {
   "cell_type": "code",
   "execution_count": null,
   "id": "2cfe575d",
   "metadata": {},
   "outputs": [],
   "source": [
    "import PyPDF2\n",
    "import google.generativeai as genai\n",
    "\n",
    "# Khởi tạo API Gemini\n",
    "\n",
    "genai.configure(api_key=\"\")\n",
    "\n",
    "\n",
    "def read_pdf(file_path):\n",
    "    \"\"\"Đọc nội dung từ file PDF\"\"\"\n",
    "    content = \"\"\n",
    "    with open(file_path, \"rb\") as file:\n",
    "        reader = PyPDF2.PdfReader(file)\n",
    "        for page in reader.pages:\n",
    "            content += page.extract_text()\n",
    "    return content\n",
    "\n",
    "\n",
    "def split_text(text, chunk_size=3000):\n",
    "    \"\"\"Chia văn bản thành các đoạn nhỏ\"\"\"\n",
    "    chunks = []\n",
    "    for i in range(0, len(text), chunk_size):\n",
    "        chunks.append(text[i : i + chunk_size])\n",
    "    return chunks\n",
    "\n",
    "\n",
    "def clean_and_summarize_with_gemini(text):\n",
    "    \"\"\"Làm sạch và tóm tắt nội dung văn bản bằng Gemini\"\"\"\n",
    "    model = genai.GenerativeModel(\"gemini-2.0-flash\")\n",
    "    prompt = (\n",
    "        f\"Làm sạch nội dung sau và tóm tắt thành các bullet point cho bài thuyết trình theo từng đề mục, kết quả dưới dạng text bình thường, không sử dụng định dạng đặc biệt. Chỉ đưa ra kết quả, không giải thích hay nói gì thêm:\\n{text}\"\n",
    "    )\n",
    "    response = model.generate_content(prompt)\n",
    "    return response.text\n",
    "\n",
    "\n",
    "def example():\n",
    "    pdf_path = \"D:/example.pdf\"  # Thay bằng đường dẫn file PDF của bạn\n",
    "    raw_text = read_pdf(pdf_path)\n",
    "    \n",
    "    # Chia nhỏ nội dung nếu quá dài\n",
    "    text_chunks = split_text(raw_text)\n",
    "    summarized_chunks = []\n",
    "    \n",
    "    # Làm sạch và tóm tắt từng đoạn rồi tổng hợp lại\n",
    "    for i, chunk in enumerate(text_chunks):\n",
    "        print(f\"Đang làm sạch và tóm tắt đoạn {i + 1}/{len(text_chunks)}...\")\n",
    "        summary_chunk = clean_and_summarize_with_gemini(chunk)\n",
    "        summarized_chunks.append(summary_chunk)\n",
    "    \n",
    "    # Ghép nội dung đã làm sạch và tóm tắt\n",
    "    summarized_text = \"\\n\".join(summarized_chunks)\n",
    "    \n",
    "    # In nội dung đã làm sạch và tóm tắt\n",
    "    print(summarized_text)\n",
    "\n",
    "    # Hoặc lưu nội dung ra file\n",
    "    with open(\"cleaned_and_summarized_text.txt\", \"w\", encoding=\"utf-8\") as f:\n",
    "        f.write(summarized_text)\n",
    "\n",
    "    print(\"Nội dung đã được làm sạch, tóm tắt và lưu vào 'cleaned_and_summarized_text.txt'\")\n",
    "\n"
   ]
  },
  {
   "cell_type": "code",
   "execution_count": null,
   "id": "c8b96223",
   "metadata": {},
   "outputs": [],
   "source": [
    "example()"
   ]
  },
  {
   "cell_type": "code",
   "execution_count": null,
   "id": "990e036c",
   "metadata": {},
   "outputs": [],
   "source": []
  }
 ],
 "metadata": {
  "kernelspec": {
   "display_name": "Python 3 (ipykernel)",
   "language": "python",
   "name": "python3"
  },
  "language_info": {
   "codemirror_mode": {
    "name": "ipython",
    "version": 3
   },
   "file_extension": ".py",
   "mimetype": "text/x-python",
   "name": "python",
   "nbconvert_exporter": "python",
   "pygments_lexer": "ipython3",
   "version": "3.9.12"
  }
 },
 "nbformat": 4,
 "nbformat_minor": 5
}
