{
 "cells": [
  {
   "cell_type": "code",
   "execution_count": 3,
   "id": "1c60e880",
   "metadata": {},
   "outputs": [],
   "source": [
    "def get_prefix(word: str) -> str:\n",
    "    \"\"\"\n",
    "    Trích xuất các ký tự từ đầu từ cho đến khi gặp nguyên âm đầu tiên.\n",
    "    \n",
    "    Args:\n",
    "        word (str): Từ cần xử lý.\n",
    "\n",
    "    Returns:\n",
    "        str: Phần đầu của từ trước nguyên âm đầu tiên (bao gồm cả nguyên âm).\n",
    "    \"\"\"\n",
    "    vowels = 'aeiouAEIOU'\n",
    "    prefix = ''\n",
    "    \n",
    "    for char in word:\n",
    "        prefix += char\n",
    "        if char in vowels:\n",
    "            break\n",
    "    \n",
    "    return prefix\n",
    "\n",
    "\n",
    "def jack(words: list[str]) -> str:\n",
    "    \"\"\"\n",
    "    Kết hợp các tiền tố của 4 từ theo thứ tự.\n",
    "\n",
    "    Args:\n",
    "        words (list[str]): Danh sách gồm 4 từ.\n",
    "\n",
    "    Returns:\n",
    "        str: Chuỗi kết quả kết hợp từ các tiền tố.\n",
    "    \"\"\"\n",
    "    result = ''.join(get_prefix(word) for word in words)\n",
    "    return result"
   ]
  },
  {
   "cell_type": "code",
   "execution_count": 5,
   "id": "df75b561",
   "metadata": {},
   "outputs": [
    {
     "data": {
      "text/plain": [
       "'kereyaye'"
      ]
     },
     "execution_count": 5,
     "metadata": {},
     "output_type": "execute_result"
    }
   ],
   "source": [
    "jack([\"kenkyusha\", \"researcher\", \"yanjiuyuan\", \"yeonguja\"])"
   ]
  }
 ],
 "metadata": {
  "kernelspec": {
   "display_name": "Python 3 (ipykernel)",
   "language": "python",
   "name": "python3"
  },
  "language_info": {
   "codemirror_mode": {
    "name": "ipython",
    "version": 3
   },
   "file_extension": ".py",
   "mimetype": "text/x-python",
   "name": "python",
   "nbconvert_exporter": "python",
   "pygments_lexer": "ipython3",
   "version": "3.9.12"
  }
 },
 "nbformat": 4,
 "nbformat_minor": 5
}
