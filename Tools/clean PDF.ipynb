{
 "cells": [
  {
   "cell_type": "code",
   "execution_count": null,
   "id": "a4286382",
   "metadata": {},
   "outputs": [],
   "source": [
    "!pip install -qU google-generativeai"
   ]
  },
  {
   "cell_type": "code",
   "execution_count": null,
   "id": "04d4a7c8",
   "metadata": {},
   "outputs": [],
   "source": [
    "\n",
    "import PyPDF2\n",
    "import google.generativeai as genai\n",
    "\n",
    "# Khởi tạo API Gemini\n",
    "\n",
    "genai.configure(api_key=\"\")\n",
    "\n",
    "\n",
    "def read_pdf(file_path):\n",
    "    \"\"\"Đọc nội dung từ file PDF\"\"\"\n",
    "    content = \"\"\n",
    "    with open(file_path, \"rb\") as file:\n",
    "        reader = PyPDF2.PdfReader(file)\n",
    "        for page in reader.pages:\n",
    "            content += page.extract_text()\n",
    "    return content\n",
    "\n",
    "\n",
    "def split_text(text, chunk_size=3000):\n",
    "    \"\"\"Chia văn bản thành các đoạn nhỏ\"\"\"\n",
    "    chunks = []\n",
    "    for i in range(0, len(text), chunk_size):\n",
    "        chunks.append(text[i : i + chunk_size])\n",
    "    return chunks\n",
    "\n",
    "\n",
    "def clean_text_with_gemini(text):\n",
    "    \"\"\"Làm sạch nội dung văn bản bằng Gemini\"\"\"\n",
    "    model = genai.GenerativeModel(\"gemini-2.0-flash\")\n",
    "    prompt = f\"Làm sạch và chuẩn hóa nội dung sau, kết quả dưới dạng text bình thường, không sử dụng định dạng đặc biệt:\\n{text}\"\n",
    "    response = model.generate_content(prompt)\n",
    "    return response.text\n",
    "\n",
    "\n",
    "def example():\n",
    "    pdf_path = \"D:/example.pdf\"  # Thay bằng đường dẫn file PDF của bạn\n",
    "    raw_text = read_pdf(pdf_path)\n",
    "    \n",
    "    # Chia nhỏ nội dung nếu quá dài\n",
    "    text_chunks = split_text(raw_text)\n",
    "    cleaned_chunks = []\n",
    "    \n",
    "    # Làm sạch từng đoạn rồi tổng hợp lại\n",
    "    for i, chunk in enumerate(text_chunks):\n",
    "        print(f\"Đang làm sạch đoạn {i + 1}/{len(text_chunks)}...\")\n",
    "        cleaned_chunk = clean_text_with_gemini(chunk)\n",
    "        cleaned_chunks.append(cleaned_chunk)\n",
    "    \n",
    "    # Ghép nội dung đã làm sạch\n",
    "    cleaned_text = \"\\n\".join(cleaned_chunks)\n",
    "    \n",
    "    # In nội dung đã làm sạch\n",
    "    print(cleaned_text)\n",
    "\n",
    "    # Hoặc lưu nội dung đã làm sạch ra file\n",
    "    with open(\"D:/cleaned_text.txt\", \"w\", encoding=\"utf-8\") as f:\n",
    "        f.write(cleaned_text)\n",
    "\n",
    "    print(\"Nội dung đã được làm sạch bằng Gemini và lưu vào 'cleaned_text.txt'\")"
   ]
  },
  {
   "cell_type": "code",
   "execution_count": null,
   "id": "344be7c6",
   "metadata": {},
   "outputs": [],
   "source": [
    "example()"
   ]
  },
  {
   "cell_type": "code",
   "execution_count": null,
   "id": "535cf249",
   "metadata": {},
   "outputs": [],
   "source": []
  }
 ],
 "metadata": {
  "kernelspec": {
   "display_name": "Python 3 (ipykernel)",
   "language": "python",
   "name": "python3"
  },
  "language_info": {
   "codemirror_mode": {
    "name": "ipython",
    "version": 3
   },
   "file_extension": ".py",
   "mimetype": "text/x-python",
   "name": "python",
   "nbconvert_exporter": "python",
   "pygments_lexer": "ipython3",
   "version": "3.9.12"
  }
 },
 "nbformat": 4,
 "nbformat_minor": 5
}
