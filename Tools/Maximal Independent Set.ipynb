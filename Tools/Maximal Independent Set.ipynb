{
 "cells": [
  {
   "cell_type": "code",
   "execution_count": 22,
   "id": "2d344511",
   "metadata": {},
   "outputs": [
    {
     "name": "stdout",
     "output_type": "stream",
     "text": [
      "Tập độc lập cực đại (các thứ có thể làm cùng nhau): ['nghiên cứu', 'chơi piano', 'tiếng Trung', 'tiếng Anh', 'đạo Phật']\n"
     ]
    }
   ],
   "source": [
    "import networkx as nx\n",
    "\n",
    "# Hàm tạo đồ thị và giải bài toán tìm maximal independent set\n",
    "def find_maximal_independent_set(antagonistic_pairs):\n",
    "    # Tạo đồ thị vô hướng\n",
    "    G = nx.Graph()\n",
    "\n",
    "    # Thêm các cặp kỵ nhau vào đồ thị\n",
    "    for pair in antagonistic_pairs:\n",
    "        G.add_edge(pair[0], pair[1])\n",
    "\n",
    "    # Tìm tập độc lập cực đại\n",
    "    maximal_indep_set = nx.maximal_independent_set(G,['nghiên cứu'])\n",
    "    return maximal_indep_set\n",
    "\n",
    "# Ví dụ về các thứ kỵ nhau\n",
    "antagonistic_pairs = [\n",
    "    ('đạo Phật', 'đạo Thiên Chúa'),\n",
    "    ('xem phim hoạt hình', 'tiếng Trung'),\n",
    "    ('tiếng Nhật', 'tiếng Hàn'),\n",
    "    ('tiếng Nhật', 'tiếng Anh'),\n",
    "    ('tiếng Trung', 'tiếng Hàn'),\n",
    "    ('tiếng Anh', 'tiếng Hàn'),\n",
    "    ('chơi piano', 'xem phim hoạt hình'),\n",
    "    ('xem phim hoạt hình', 'đọc sách'),\n",
    "    ('đạo Thiên Chúa', 'đọc sách'),\n",
    "    ('tiếng Trung', 'đọc sách'),\n",
    "    ('xem phim hoạt hình', 'nghiên cứu'),\n",
    "    ('đạo Thiên Chúa', 'nghiên cứu'),\n",
    "    ('tiếng Nhật', 'nghiên cứu'),\n",
    "    ('tiếng Hàn', 'nghiên cứu'),\n",
    "]\n",
    "\n",
    "# Tìm tập các thứ có thể làm cùng nhau (tập độc lập cực đại)\n",
    "result = find_maximal_independent_set(antagonistic_pairs)\n",
    "\n",
    "# In ra kết quả\n",
    "print(\"Tập độc lập cực đại (các thứ có thể làm cùng nhau):\", result)\n"
   ]
  }
 ],
 "metadata": {
  "kernelspec": {
   "display_name": "Python 3 (ipykernel)",
   "language": "python",
   "name": "python3"
  },
  "language_info": {
   "codemirror_mode": {
    "name": "ipython",
    "version": 3
   },
   "file_extension": ".py",
   "mimetype": "text/x-python",
   "name": "python",
   "nbconvert_exporter": "python",
   "pygments_lexer": "ipython3",
   "version": "3.9.12"
  }
 },
 "nbformat": 4,
 "nbformat_minor": 5
}
