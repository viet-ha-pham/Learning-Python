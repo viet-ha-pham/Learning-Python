{
 "cells": [
  {
   "cell_type": "code",
   "execution_count": 2,
   "id": "ea06d756",
   "metadata": {},
   "outputs": [],
   "source": [
    "import ctnx"
   ]
  },
  {
   "cell_type": "code",
   "execution_count": 3,
   "id": "82c09484",
   "metadata": {},
   "outputs": [],
   "source": [
    "def pray(s):\n",
    "    s = s.lower()\n",
    "    s = ctnx.remove_diacritics(s)\n",
    "    dct = {\n",
    "        \"a\":\"ya\",\n",
    "        \"b\":\"as\",\n",
    "        \"c\":\"yo\",\n",
    "        \"d\":\"ye\",\n",
    "        \"e\":\"sa\",\n",
    "        \"f\":\"ka\",\n",
    "        \"g\":\"va\",\n",
    "        \"h\":\"bo\",\n",
    "        \"i\":\"t\",\n",
    "        \"j\":\"ko\",\n",
    "        \"k\":\"na\",\n",
    "        \"l\":\"sve\",\n",
    "        \"m\":\"dra\",\n",
    "        \"n\":\"s\",\n",
    "        \"o\":\"an\",\n",
    "        \"p\":\"wi\",\n",
    "        \"q\":\"ac\",\n",
    "        \"r\":\"bu\",\n",
    "        \"s\":\"ta\",\n",
    "        \"t\":\"ar\",\n",
    "        \"u\":\"pri\",\n",
    "        \"v\":\"cha\",\n",
    "        \"w\":\"pi\",\n",
    "        \"x\":\"lo\",\n",
    "        \"y\":\"pe\",\n",
    "        \"z\":\"wu\"\n",
    "    }\n",
    "    \n",
    "    temp = \"\"\n",
    "    for c in s:\n",
    "        if c in dct:\n",
    "            temp += dct[c]\n",
    "        else:\n",
    "            temp += c\n",
    "    \n",
    "    temp = temp.replace(\"aa\",\"ai\")\n",
    "    temp = temp.replace(\"oo\",\"oi\")\n",
    "    temp = temp.replace(\"ss\",\"sh\")\n",
    "    temp = temp.replace(\"ast\",\"asta\")\n",
    "    temp = temp.replace(\"art\",\"arta\")\n",
    "    sp = temp.split(\".\")\n",
    "    result = \"\\n\\n\".join([x.strip()[0].upper()+x.strip()[1:]+\".\" for x in sp if x.strip()])\n",
    "    \n",
    "    return result"
   ]
  },
  {
   "cell_type": "code",
   "execution_count": 4,
   "id": "1f358da0",
   "metadata": {},
   "outputs": [],
   "source": [
    "def toti(s):\n",
    "    s = s.lower()\n",
    "    s = ctnx.remove_diacritics(s)\n",
    "    dct = {\n",
    "        \"a\":\"a\",\n",
    "        \"b\":\"o\",\n",
    "        \"c\":\"i\",\n",
    "        \"d\":\"sá\",\n",
    "        \"e\":\"só\",\n",
    "        \"f\":\"sí\",\n",
    "        \"g\":\"sà\",\n",
    "        \"h\":\"sò\",\n",
    "        \"i\":\"sì\",\n",
    "        \"j\":\"ma\",\n",
    "        \"k\":\"mo\",\n",
    "        \"l\":\"mi\",\n",
    "        \"m\":\"má\",\n",
    "        \"n\":\"mó\",\n",
    "        \"o\":\"mí\",\n",
    "        \"p\":\"mà\",\n",
    "        \"q\":\"mò\",\n",
    "        \"r\":\"mì\",\n",
    "        \"s\":\"ta\",\n",
    "        \"t\":\"to\",\n",
    "        \"u\":\"ti\",\n",
    "        \"v\":\"tá\",\n",
    "        \"w\":\"tó\",\n",
    "        \"x\":\"tí\",\n",
    "        \"y\":\"tà\",\n",
    "        \"z\":\"tò\",\n",
    "        \"?\":\"tì\"\n",
    "    }\n",
    "    \n",
    "    temp = \"\"\n",
    "    for c in s:\n",
    "        if c in dct:\n",
    "            temp += dct[c]\n",
    "        else:\n",
    "            temp += c\n",
    "    \n",
    "    temp = temp.replace(\"aa\",\"an\")\n",
    "    temp = temp.replace(\"oo\",\"on\")\n",
    "    temp = temp.replace(\"ii\",\"in\")\n",
    "    temp = temp.replace(\"áa\",\"ác\")\n",
    "    temp = temp.replace(\"óo\",\"óc\")\n",
    "    temp = temp.replace(\"íi\",\"íc\")\n",
    "    temp = temp.replace(\"àa\",\"àn\")\n",
    "    temp = temp.replace(\"òo\",\"òn\")\n",
    "    temp = temp.replace(\"ìi\",\"ìn\")\n",
    "    \n",
    "    sp = temp.split(\".\")\n",
    "    result = \"\\n\\n\".join([x.strip()[0].upper()+x.strip()[1:]+\".\" for x in sp if x.strip()])\n",
    "    \n",
    "    return result"
   ]
  },
  {
   "cell_type": "code",
   "execution_count": 5,
   "id": "c67727d6",
   "metadata": {},
   "outputs": [
    {
     "name": "stdout",
     "output_type": "stream",
     "text": [
      "Boandra syape yoans yeya boanyas arboyasbo yesas drapriyo chapriya arboyape yeyape yepri chapriya arboyape arboyair chainsva chapriya arboyair yoboyat tayas chasa aryair yoya draint arbopri svainyat tapri  pesas ans yopriya asyas arboyas chaya yoansva chatsayo, yoans yoboyasva yoan boprisva arbopri chaint sboprisva arbopri artasbo pesapri artasbo yepriyo vat chaya yeyayo astasair yoans yoboyasva arboyape yoyas arbotsair wiboyat yoansva botsas vat spriya yoboan yoyayo arbuyasva yopriya dratsbo chat yoans naboansva yoyadra arboyape yeprianyo yoant arbuansva chaya astasair ans, yoans yoyadra arboyape yoan drainar yoyat vat yean wibopri boanwi boans yean yobotsbo sveya drainar yoprianyo tainsva draint naboansva yoan aryair yoya sboprisva arbopri sbopri arbuprianyo.\n",
      "\n",
      "Yeyayo astasair, yoans yopri svabot tasa yoan drainar draint acpriyas syain yean yesa yoans acprisas yet tapri svabotsas chatsayo, sboprisva arbopriyo buya yobot sveya drainar tapri nabotsbo arbopriansva chaya nabot yoan tapri nabotsbo arbopriansva yean arbot naboansva yoyas sant sbotsapri, yopri sveyasva svesa naboansva sant vat spriya yoboan yean drayair arboant vatyas yopriya sboyapri, buan buyasva acpriya buant yoans vat, svainyat buya yoans yobot yoyas yepriya chayain asyas arboyas yesa chapriya acpriya aryair yoya draya arboant.\n"
     ]
    }
   ],
   "source": [
    "txt = \"\"\"hom nay con da hoan thanh den muc vua thay day du vua thay that vong vua that chai san ve tat ca moi thu ngoai su  yen on cua ban than va cong viec, con chang co hung thu voi nhung thu tinh yeu tinh duc gi va dac biet con chang thay can thiet phai cong hien gi nua cho cac trang cua minh vi con khong cam thay duoc coi trong va biet on, con cam thay co mot cai gi do phu hop hon do chinh la mot cuoc song moi khong co tat ca nhung thu nhu truoc. Dac biet, con cu nghi se co mot moi quan nao do de con quen di su nghien viec, nhung thuc ra chi la mot su khinh thuong va khi co su khinh thuong do thi khong can noi nhieu, cu lang le khong noi gi nua cho do mat thoi gian cua nhau, ro rang qua roi con gi, ngoai ra con chi can dua vao ban than de vua qua tat ca ma thoi.\n",
    "\"\"\"\n",
    "print(pray(txt))"
   ]
  },
  {
   "cell_type": "code",
   "execution_count": 6,
   "id": "18e7c181",
   "metadata": {},
   "outputs": [
    {
     "name": "stdout",
     "output_type": "stream",
     "text": [
      "Sòmímá móatà imímó sác sòmíamó tosòamósò sásómó mátin tátia tosòatà sáctà sáti tátia tosòatà tosòato támímósà tátia tosòato isòasì tanmó tásó toato ia mámísì tosòti mósàmíasì tati  tàsómó mímó itia oamó tosòamó tác imímósà tásìsói, imímó isòamósà imí sòtimósà tosòti támísì mósòtimósà tosòti tosìmósò tàsóti tosìmósò sátin sàsì tác sáci osìsóto imímó isòamósà tosòatà iamó tosòsìsóto màsòasì imímósà sòsìsómó sàsì mótia isòmí iai tomìamósà itia másìmósò tásì imímó mosòmímósà iamá tosòatà sátimíc imísì tomìmímósà tác osìsóto mímó, imímó iamá tosòatà imí mámíto iasì sàsì sámí màsòti sòmímà sòmímó sámí isòsìmósò mia mámíto itimíc tamímósà mámísì mosòmímósà imí toato ia mósòtimósà tosòti mósòti tomìtimíc.\n",
      "\n",
      "Sáci osìsóto, imímó iti mósàsòsì tasó imí mámíto mámísì mòtiamó móamí sámí sásó imímó mòtisómó sásì tati mósàsòsìsómó tásìsói, mósòtimósà tosòtin mìa isòsì mia mámíto tati mosòsìmósò tosòtimímósà tác mosòsì imí tati mosòsìmósò tosòtimímósà sámí tosòsì mosòmímósà iamó mómísì mósòsìsóti, iti miamósà misó mosòmímósà mómísì sàsì mótia isòmí sámí mácto tosòmísì sàsìamó itia mósòati, mìmí mìamósà mòtia mìmísì imímó sàsì, mósàmíasì mìa imímó isòsì iamó sátia tácmí oamó tosòamó sásó tátia mòtia toato ia mác tosòmísì.\n"
     ]
    }
   ],
   "source": [
    "print(toti(txt))"
   ]
  },
  {
   "cell_type": "code",
   "execution_count": null,
   "id": "5e4d2f21",
   "metadata": {},
   "outputs": [],
   "source": []
  },
  {
   "cell_type": "code",
   "execution_count": null,
   "id": "83a84f87",
   "metadata": {},
   "outputs": [],
   "source": []
  },
  {
   "cell_type": "code",
   "execution_count": null,
   "id": "f8203573",
   "metadata": {},
   "outputs": [],
   "source": []
  },
  {
   "cell_type": "code",
   "execution_count": null,
   "id": "596aef92",
   "metadata": {},
   "outputs": [],
   "source": []
  },
  {
   "cell_type": "code",
   "execution_count": null,
   "id": "aee98490",
   "metadata": {},
   "outputs": [],
   "source": []
  },
  {
   "cell_type": "code",
   "execution_count": null,
   "id": "60afe473",
   "metadata": {},
   "outputs": [],
   "source": []
  },
  {
   "cell_type": "code",
   "execution_count": null,
   "id": "afabc8ee",
   "metadata": {},
   "outputs": [],
   "source": []
  },
  {
   "cell_type": "code",
   "execution_count": null,
   "id": "2152b98a",
   "metadata": {},
   "outputs": [],
   "source": []
  }
 ],
 "metadata": {
  "kernelspec": {
   "display_name": "Python 3 (ipykernel)",
   "language": "python",
   "name": "python3"
  },
  "language_info": {
   "codemirror_mode": {
    "name": "ipython",
    "version": 3
   },
   "file_extension": ".py",
   "mimetype": "text/x-python",
   "name": "python",
   "nbconvert_exporter": "python",
   "pygments_lexer": "ipython3",
   "version": "3.9.12"
  }
 },
 "nbformat": 4,
 "nbformat_minor": 5
}
